{
  "cells": [
    {
      "cell_type": "markdown",
      "metadata": {
        "id": "hRf6PMBZhDbD"
      },
      "source": [
        "#Exploring methods to minimize training data size while maintaining maximum model accuracy."
      ]
    },
    {
      "cell_type": "markdown",
      "metadata": {
        "id": "_CsbbXiiii7a"
      },
      "source": [
        "I am using the MNIST dataset and sklearn's MLP classifier to easily test these methods before transfering to chemprop."
      ]
    },
    {
      "cell_type": "code",
      "execution_count": null,
      "metadata": {
        "colab": {
          "base_uri": "https://localhost:8080/",
          "height": 431,
          "referenced_widgets": [
            "f1ca33622a724bd5b18abaaa0fba86bb",
            "4e30e69789e54c01a9d754369ad2da69",
            "2ec8d7e26170470c86e19270d0d1249f",
            "4dcf14d0298a4c93bd8e3218d474f217",
            "4651b54637a14bfa98e23b589c963843",
            "0c4bc9c3db1c4239832678136a9bfe9e",
            "14b199f602014f1bb8e4694dbda54164",
            "43163a1d11e44a95beeb7f1fff3e8d70",
            "68f2a85709654217943c4f17d4c24d22",
            "787b60ffc25447c78c8cb2509979b09c",
            "1ed7e8252c5043d88392d9f72fa36675",
            "d0e575d84d5746e7948fd6a7fd379a07",
            "806d7b92dab34ad8be8cbac3b8599430",
            "76f09c50cc834873951a1aa54182fa32",
            "1e06ad88568149e39c5342f88b537295",
            "f8dbe4df80844ff38de14e98d979cb47",
            "c57835abb51f440488fc6b5501fae65e",
            "448a13417e4243029a5223fb8cc3db0b",
            "c9eb15902cec48fd8a741a0964edc70e",
            "6f05dfd90a984e79a7b7f1da06fad882",
            "3d957510b47948aaafd6080375fd37d1",
            "bcb64fb24cd8478eb1850c31083e551b",
            "bfc73e08984440cfa7cfc92ade9a0b6f",
            "35e2728f729947da98f134ae9acc0875",
            "5328463c06c346159f063da49d012a0b",
            "ace704fdcba844749d16cf4a74b1886b",
            "f0dc4c154a0844709dd7e6a24ddf00d5",
            "b12e663270244f288a906c2ee8b2ac10",
            "e25bfdda883049a9b9a61cd06c94eaf0",
            "bc04cdb678a94cb9a97a9769d592f6ef",
            "cf2731bebdf44a738a3d2bf69a7fe77f",
            "5d180119b0804dde86cb1e34fcf08c25",
            "c71dcd2217e54121b12a8f4cf9371bd3",
            "bfbada1747ca4b2a80b0b9d82ff1a3b0",
            "0990624b6b534777acd144005b0d3027",
            "0238e811dab942a1b6ca420761d88852",
            "aae5aa9a4f1d4f56abbec72bfea04632",
            "38b60bbac2284462b16c448d7e171656",
            "b429870371ad4fc8962335ec572a2f02",
            "6e51d7814dd04a0d99743a62b460913e",
            "b824efa692bc4cfcb42ee0de51ce2607",
            "a8eb422f2c3240bc9db4948d32cf096a",
            "21edbe54aca143be8afcbd90b547ccc4",
            "b778e7f6fb6f4ffab6a21659c3b18601"
          ]
        },
        "id": "fz_uibmOrpsJ",
        "outputId": "c7b0d189-75ca-4c39-c226-e185f3b16e45"
      },
      "outputs": [
        {
          "output_type": "stream",
          "name": "stdout",
          "text": [
            "Downloading http://yann.lecun.com/exdb/mnist/train-images-idx3-ubyte.gz\n",
            "Downloading http://yann.lecun.com/exdb/mnist/train-images-idx3-ubyte.gz to ./MNIST/raw/train-images-idx3-ubyte.gz\n"
          ]
        },
        {
          "output_type": "display_data",
          "data": {
            "text/plain": [
              "  0%|          | 0/9912422 [00:00<?, ?it/s]"
            ],
            "application/vnd.jupyter.widget-view+json": {
              "version_major": 2,
              "version_minor": 0,
              "model_id": "f1ca33622a724bd5b18abaaa0fba86bb"
            }
          },
          "metadata": {}
        },
        {
          "output_type": "stream",
          "name": "stdout",
          "text": [
            "Extracting ./MNIST/raw/train-images-idx3-ubyte.gz to ./MNIST/raw\n",
            "\n",
            "Downloading http://yann.lecun.com/exdb/mnist/train-labels-idx1-ubyte.gz\n",
            "Downloading http://yann.lecun.com/exdb/mnist/train-labels-idx1-ubyte.gz to ./MNIST/raw/train-labels-idx1-ubyte.gz\n"
          ]
        },
        {
          "output_type": "display_data",
          "data": {
            "text/plain": [
              "  0%|          | 0/28881 [00:00<?, ?it/s]"
            ],
            "application/vnd.jupyter.widget-view+json": {
              "version_major": 2,
              "version_minor": 0,
              "model_id": "d0e575d84d5746e7948fd6a7fd379a07"
            }
          },
          "metadata": {}
        },
        {
          "output_type": "stream",
          "name": "stdout",
          "text": [
            "Extracting ./MNIST/raw/train-labels-idx1-ubyte.gz to ./MNIST/raw\n",
            "\n",
            "Downloading http://yann.lecun.com/exdb/mnist/t10k-images-idx3-ubyte.gz\n",
            "Downloading http://yann.lecun.com/exdb/mnist/t10k-images-idx3-ubyte.gz to ./MNIST/raw/t10k-images-idx3-ubyte.gz\n"
          ]
        },
        {
          "output_type": "display_data",
          "data": {
            "text/plain": [
              "  0%|          | 0/1648877 [00:00<?, ?it/s]"
            ],
            "application/vnd.jupyter.widget-view+json": {
              "version_major": 2,
              "version_minor": 0,
              "model_id": "bfc73e08984440cfa7cfc92ade9a0b6f"
            }
          },
          "metadata": {}
        },
        {
          "output_type": "stream",
          "name": "stdout",
          "text": [
            "Extracting ./MNIST/raw/t10k-images-idx3-ubyte.gz to ./MNIST/raw\n",
            "\n",
            "Downloading http://yann.lecun.com/exdb/mnist/t10k-labels-idx1-ubyte.gz\n",
            "Downloading http://yann.lecun.com/exdb/mnist/t10k-labels-idx1-ubyte.gz to ./MNIST/raw/t10k-labels-idx1-ubyte.gz\n"
          ]
        },
        {
          "output_type": "display_data",
          "data": {
            "text/plain": [
              "  0%|          | 0/4542 [00:00<?, ?it/s]"
            ],
            "application/vnd.jupyter.widget-view+json": {
              "version_major": 2,
              "version_minor": 0,
              "model_id": "bfbada1747ca4b2a80b0b9d82ff1a3b0"
            }
          },
          "metadata": {}
        },
        {
          "output_type": "stream",
          "name": "stdout",
          "text": [
            "Extracting ./MNIST/raw/t10k-labels-idx1-ubyte.gz to ./MNIST/raw\n",
            "\n"
          ]
        }
      ],
      "source": [
        "from torchvision import datasets\n",
        "\n",
        "training = datasets.MNIST(root = '.',\n",
        "                          train = True,\n",
        "                          download = True\n",
        "                          )\n",
        "data = training.data.numpy()\n",
        "labels = training.targets.numpy()\n",
        "\n",
        "data = data.reshape(60000, 784)"
      ]
    },
    {
      "cell_type": "markdown",
      "metadata": {
        "id": "aZH9Vli9sSkQ"
      },
      "source": [
        "Of the 60k images, split into 48k training set and 12k testing set."
      ]
    },
    {
      "cell_type": "code",
      "execution_count": null,
      "metadata": {
        "id": "fxJaB_JvrtVR"
      },
      "outputs": [],
      "source": [
        "from sklearn.model_selection import train_test_split\n",
        "x_train_full, x_test_full, y_train_full, y_test_full = train_test_split(data, labels, train_size = 0.80, random_state=0)"
      ]
    },
    {
      "cell_type": "markdown",
      "metadata": {
        "id": "2DfjbAhBsjwa"
      },
      "source": [
        "Model training with full training data set to establish a baseline."
      ]
    },
    {
      "cell_type": "code",
      "execution_count": null,
      "metadata": {
        "colab": {
          "base_uri": "https://localhost:8080/"
        },
        "id": "oXh6Hk8zrtx2",
        "outputId": "f082bfcb-9b00-4fed-e0cb-fadba4fdf199"
      },
      "outputs": [
        {
          "output_type": "stream",
          "name": "stdout",
          "text": [
            "Full training set score 0.9615\n",
            "Runtime:  5m19s\n"
          ]
        }
      ],
      "source": [
        "import time\n",
        "from sklearn.neural_network import MLPClassifier\n",
        "\n",
        "start = time.time()\n",
        "clf = MLPClassifier(activation = 'logistic', hidden_layer_sizes = (100, 100), random_state = 0)\n",
        "clf.fit(x_train_full, y_train_full)\n",
        "full_training_score = clf.score(x_test_full, y_test_full)\n",
        "end = time.time()\n",
        "print(\"Full training set score\", full_training_score)\n",
        "seconds = end - start\n",
        "print(\"Runtime: %2dm%2ds\" % (seconds / 60, seconds % 60))"
      ]
    },
    {
      "cell_type": "markdown",
      "source": [
        "Model training with first 10k training samples."
      ],
      "metadata": {
        "id": "tvEqS1ngXBFc"
      }
    },
    {
      "cell_type": "code",
      "source": [
        "import time\n",
        "from sklearn.neural_network import MLPClassifier\n",
        "\n",
        "start = time.time()\n",
        "clf = MLPClassifier(activation = 'logistic', hidden_layer_sizes = (100, 100), random_state = 0)\n",
        "clf.fit(x_train_full[:10000], y_train_full[:10000])\n",
        "random_10k_training_score = clf.score(x_test_full, y_test_full)\n",
        "end = time.time()\n",
        "print(\"Full training set score\", full_training_score)\n",
        "seconds = end - start\n",
        "print(\"Runtime: %2dm%2ds\" % (seconds / 60, seconds % 60))"
      ],
      "metadata": {
        "colab": {
          "base_uri": "https://localhost:8080/"
        },
        "id": "K4-gj3zJW_e3",
        "outputId": "8619fc58-8751-42c8-f140-5dfeb00f7f97"
      },
      "execution_count": null,
      "outputs": [
        {
          "output_type": "stream",
          "name": "stdout",
          "text": [
            "Full training set score 0.9615\n",
            "Runtime:  0m38s\n"
          ]
        }
      ]
    },
    {
      "cell_type": "markdown",
      "metadata": {
        "id": "-d3vbuFTujbC"
      },
      "source": [
        "#Training on the model's least confident samples\n",
        "\n",
        "Train on less data by training on small chunks and adding the least confident remaining training samples to the training set."
      ]
    },
    {
      "cell_type": "code",
      "execution_count": null,
      "metadata": {
        "id": "6m_CutwbKpAN"
      },
      "outputs": [],
      "source": [
        "from sklearn.neural_network import MLPClassifier\n",
        "import numpy as np\n",
        "import time\n",
        "\n",
        "class Learner:\n",
        "  def __init__(self, confidence_measure, step_size):\n",
        "    if confidence_measure == 'max_proba':\n",
        "      self.confidence_function = np.max\n",
        "    elif confidence_measure == 'std':\n",
        "      self.confidence_function = np.std\n",
        "    elif confidence_measure == 'top_two':\n",
        "      def top_two(proba, axis):\n",
        "        sorted = np.sort(proba, axis = axis)[:,-2:]\n",
        "        return sorted[:, 1] - sorted[:, 0]\n",
        "      self.confidence_function = top_two\n",
        "\n",
        "    self.step_size = step_size\n",
        "\n",
        "  def selection(self, clf, x):\n",
        "    \"\"\"\n",
        "      Returns the indices of the most ambiguous samples that should be labeled\n",
        "    \"\"\"\n",
        "    probabilities = clf.predict_proba(x)\n",
        "    confidence = self.confidence_function(probabilities, axis = 1)\n",
        "    self.indices = np.argsort(confidence)[:self.step_size]\n",
        "\n",
        "    return self.indices\n",
        "\n",
        "  def update(self, labeled_x, labeled_y, unlabeled_x, unlabeled_y, labels):\n",
        "    \"\"\"\n",
        "      Rearranges the labeled and unlabeled datasets\n",
        "    \"\"\"\n",
        "    # adding to labeled dataset\n",
        "    labeled_x = np.concatenate([labeled_x, unlabeled_x[self.indices]])\n",
        "    labeled_y = np.concatenate([labeled_y, unlabeled_y[self.indices]])\n",
        "\n",
        "    # removing from unlabeled dataset\n",
        "    unlabeled_y = np.delete(unlabeled_y, self.indices)\n",
        "    unlabeled_x = np.delete(unlabeled_x, self.indices, axis = 0)\n",
        "\n",
        "    return labeled_x, labeled_y, unlabeled_x, unlabeled_y\n",
        "\n",
        "\"\"\"\n",
        "OptimizeTrain is a container for learner\n",
        "\"\"\"\n",
        "\n",
        "class OptimizeTrain:\n",
        "    def __init__(self, clfs = [MLPClassifier(activation='logistic', hidden_layer_sizes = (100, 100), random_state = 0)]):\n",
        "      self.clfs = clfs\n",
        "\n",
        "    def train_and_score(self, x_train, y_train, x_test, y_test, training_size = 10000, step_size = 1000, confidence_measure = \"max_proba\", print_output = False):\n",
        "      results_dict = {}\n",
        "      for clf in self.clfs:\n",
        "        start = time.time() #Time the runtime\n",
        "        clf_results_dict = {} #dictionary to populate with training size and accuracy\n",
        "\n",
        "        learner = Learner(confidence_measure, step_size)\n",
        "\n",
        "        iterations = int(training_size / step_size)\n",
        "\n",
        "        labeled_x, labeled_y = x_train[:step_size], y_train[:step_size]\n",
        "        unlabeled_x, unlabeled_y = x_train[step_size:], y_train[step_size:]\n",
        "\n",
        "        for i in range(iterations):\n",
        "          clf.fit(labeled_x, labeled_y)\n",
        "          score = clf.score(x_test, y_test)\n",
        "\n",
        "          if(print_output):\n",
        "            print(labeled_x.shape[0], score)\n",
        "\n",
        "          clf_results_dict[labeled_x.shape[0]] = score\n",
        "\n",
        "\n",
        "          indices = learner.selection(clf, unlabeled_x)\n",
        "          # labels = oracle.label(unlabeled_x[indices]) # when we incorporate our system into the docking system, we need to do something like this\n",
        "          labels = unlabeled_y[indices] # for now, we can simply use this since we know the truth\n",
        "          labeled_x, labeled_y, unlabeled_x, unlabeled_y = learner.update(labeled_x, labeled_y, unlabeled_x, unlabeled_y, labels)\n",
        "\n",
        "\n",
        "        end = time.time()\n",
        "        runtime_seconds = end - start\n",
        "        runtime_string = \"%2dm%2ds\" % (runtime_seconds / 60, runtime_seconds % 60)\n",
        "        print(\"Training complete in \" + runtime_string)\n",
        "\n",
        "        if(len(self.clfs) == 1): #if only one clf is given, return the results, otherwise add to dictionary to return later\n",
        "          return clf_results_dict\n",
        "\n",
        "        results_dict[clf] = clf_results_dict\n",
        "\n",
        "      return results_dict\n"
      ]
    },
    {
      "cell_type": "code",
      "execution_count": null,
      "metadata": {
        "colab": {
          "base_uri": "https://localhost:8080/"
        },
        "id": "QbcDK183goMm",
        "outputId": "47d950e6-93a0-4218-9d76-1a5698efe715"
      },
      "outputs": [
        {
          "output_type": "stream",
          "name": "stderr",
          "text": [
            "/usr/local/lib/python3.7/dist-packages/sklearn/neural_network/_multilayer_perceptron.py:696: ConvergenceWarning: Stochastic Optimizer: Maximum iterations (200) reached and the optimization hasn't converged yet.\n",
            "  ConvergenceWarning,\n",
            "/usr/local/lib/python3.7/dist-packages/sklearn/neural_network/_multilayer_perceptron.py:696: ConvergenceWarning: Stochastic Optimizer: Maximum iterations (200) reached and the optimization hasn't converged yet.\n",
            "  ConvergenceWarning,\n"
          ]
        },
        {
          "output_type": "stream",
          "name": "stdout",
          "text": [
            "Training complete in  5m45s\n"
          ]
        }
      ],
      "source": [
        "optimize_train = OptimizeTrain()\n",
        "least_confident_samples_results = optimize_train.train_and_score(x_train_full, y_train_full, x_test_full, y_test_full)"
      ]
    },
    {
      "cell_type": "code",
      "execution_count": null,
      "metadata": {
        "colab": {
          "base_uri": "https://localhost:8080/",
          "height": 295
        },
        "id": "4DMWeYb8DSHy",
        "outputId": "c8be6cf6-1b24-4251-9f3d-672db931b1a7"
      },
      "outputs": [
        {
          "output_type": "display_data",
          "data": {
            "text/plain": [
              "<Figure size 432x288 with 1 Axes>"
            ],
            "image/png": "[encoded data removed]"
          },
          "metadata": {
            "needs_background": "light"
          }
        }
      ],
      "source": [
        "import matplotlib.pyplot as plt\n",
        "plt.title(\"Training Data\")\n",
        "plt.hlines(y=full_training_score, xmin=1000, xmax=10000, color = 'r', label = \"Full Training Data (48k)\")\n",
        "plt.hlines(y=random_10k_training_score, xmin=1000, xmax=10000, color = 'g', label = \"Random (10k)\")\n",
        "plt.plot(list(least_confident_samples_results.keys()), list(least_confident_samples_results.values()), label = \"Least confident (10k)\")\n",
        "plt.xlabel(\"Training Size\")\n",
        "plt.ylabel(\"Model Accuracy\")\n",
        "plt.legend()\n",
        "plt.show()"
      ]
    },
    {
      "cell_type": "code",
      "source": [
        "optimize_train = OptimizeTrain(clfs = [MLPClassifier(hidden_layer_sizes=(100), activation='relu', random_state=0), MLPClassifier(hidden_layer_sizes=(100, 100, 100, 100), activation='relu', random_state=0)])\n",
        "optimize_train.train_and_score(x_train_full, y_train_full, x_test_full, y_test_full)"
      ],
      "metadata": {
        "colab": {
          "base_uri": "https://localhost:8080/"
        },
        "id": "ondvS7RqiE4M",
        "outputId": "a44b93f6-5172-4358-d920-8e0d65236480"
      },
      "execution_count": null,
      "outputs": [
        {
          "output_type": "stream",
          "name": "stdout",
          "text": [
            "Training complete in  1m47s\n",
            "Training complete in  2m52s\n"
          ]
        },
        {
          "output_type": "execute_result",
          "data": {
            "text/plain": [
              "{MLPClassifier(hidden_layer_sizes=(100, 100, 100, 100), random_state=0): {1000: 0.7375,\n",
              "  2000: 0.8265833333333333,\n",
              "  3000: 0.8696666666666667,\n",
              "  4000: 0.8915,\n",
              "  5000: 0.9015,\n",
              "  6000: 0.9153333333333333,\n",
              "  7000: 0.93125,\n",
              "  8000: 0.9358333333333333,\n",
              "  9000: 0.9365,\n",
              "  10000: 0.9400833333333334},\n",
              " MLPClassifier(hidden_layer_sizes=100, random_state=0): {1000: 0.8035,\n",
              "  2000: 0.8599166666666667,\n",
              "  3000: 0.8860833333333333,\n",
              "  4000: 0.90575,\n",
              "  5000: 0.916,\n",
              "  6000: 0.9264166666666667,\n",
              "  7000: 0.9325833333333333,\n",
              "  8000: 0.9341666666666667,\n",
              "  9000: 0.9361666666666667,\n",
              "  10000: 0.9500833333333333}}"
            ]
          },
          "metadata": {},
          "execution_count": 7
        }
      ]
    },
    {
      "cell_type": "code",
      "execution_count": null,
      "metadata": {
        "colab": {
          "base_uri": "https://localhost:8080/"
        },
        "id": "1wRmhoV59gta",
        "outputId": "12686cb6-d894-43f7-fcb0-af423490c6c8"
      },
      "outputs": [
        {
          "name": "stderr",
          "output_type": "stream",
          "text": [
            "/usr/local/lib/python3.7/dist-packages/sklearn/neural_network/_multilayer_perceptron.py:696: ConvergenceWarning: Stochastic Optimizer: Maximum iterations (200) reached and the optimization hasn't converged yet.\n",
            "  ConvergenceWarning,\n"
          ]
        },
        {
          "name": "stdout",
          "output_type": "stream",
          "text": [
            "Training complete in  8m20s\n"
          ]
        }
      ],
      "source": [
        "optimize_train = OptimizeTrain()\n",
        "least_confident_samples_results_2 = optimize_train.train_and_score(x_train_full, y_train_full, x_test_full, y_test_full, training_size = 20000, step_size = 2000)"
      ]
    },
    {
      "cell_type": "code",
      "execution_count": null,
      "metadata": {
        "colab": {
          "base_uri": "https://localhost:8080/",
          "height": 295
        },
        "id": "F-zCirKa9rPK",
        "outputId": "7b69695b-052d-4ce8-dfd6-c477fa3db535"
      },
      "outputs": [
        {
          "data": {
            "image/png": "[encoded data removed]",
            "text/plain": [
              "<Figure size 432x288 with 1 Axes>"
            ]
          },
          "metadata": {},
          "output_type": "display_data"
        }
      ],
      "source": [
        "import matplotlib.pyplot as plt\n",
        "plt.title(\"Training Data\")\n",
        "plt.hlines(y=full_training_score, xmin=1000, xmax=20000, color = 'r', label = \"Full Training Data (48k)\")\n",
        "plt.plot(list(least_confident_samples_results_2.keys()), list(least_confident_samples_results_2.values()), label = \"Least confident (20k)\")\n",
        "plt.xlabel(\"Training Size\")\n",
        "plt.ylabel(\"Model Accuracy\")\n",
        "plt.legend()\n",
        "plt.show()"
      ]
    },
    {
      "cell_type": "markdown",
      "metadata": {
        "id": "DrKCm0lF83IK"
      },
      "source": [
        "Stepping through and systematically adding training data the model is least confident in yields a model with comparable accuracy to that of the full training set with only a fraction of the training data. Beyond a training size of about 10k, the accuracy plateaus."
      ]
    },
    {
      "cell_type": "markdown",
      "metadata": {
        "id": "37JLV5HyEAOa"
      },
      "source": [
        "#Different methods of measuring the model's confidence on a training sample.\n",
        "\n",
        "\n",
        "clf.predict_proba returns an array with the probabity for each possible label (1-10 in this case)\n",
        "\n",
        "*   Maximum proba\n",
        "*   Standard deviation\n",
        "*   Difference in top two\n"
      ]
    },
    {
      "cell_type": "code",
      "execution_count": null,
      "metadata": {
        "colab": {
          "base_uri": "https://localhost:8080/"
        },
        "id": "xpoORbl5EW4u",
        "outputId": "3185e045-40e6-4b7c-b49e-ad14eef617ec"
      },
      "outputs": [
        {
          "name": "stderr",
          "output_type": "stream",
          "text": [
            "/usr/local/lib/python3.7/dist-packages/sklearn/neural_network/_multilayer_perceptron.py:696: ConvergenceWarning: Stochastic Optimizer: Maximum iterations (200) reached and the optimization hasn't converged yet.\n",
            "  ConvergenceWarning,\n",
            "/usr/local/lib/python3.7/dist-packages/sklearn/neural_network/_multilayer_perceptron.py:696: ConvergenceWarning: Stochastic Optimizer: Maximum iterations (200) reached and the optimization hasn't converged yet.\n",
            "  ConvergenceWarning,\n"
          ]
        },
        {
          "name": "stdout",
          "output_type": "stream",
          "text": [
            "Training complete in  4m40s\n"
          ]
        },
        {
          "name": "stderr",
          "output_type": "stream",
          "text": [
            "/usr/local/lib/python3.7/dist-packages/sklearn/neural_network/_multilayer_perceptron.py:696: ConvergenceWarning: Stochastic Optimizer: Maximum iterations (200) reached and the optimization hasn't converged yet.\n",
            "  ConvergenceWarning,\n",
            "/usr/local/lib/python3.7/dist-packages/sklearn/neural_network/_multilayer_perceptron.py:696: ConvergenceWarning: Stochastic Optimizer: Maximum iterations (200) reached and the optimization hasn't converged yet.\n",
            "  ConvergenceWarning,\n"
          ]
        },
        {
          "name": "stdout",
          "output_type": "stream",
          "text": [
            "Training complete in  5m 8s\n"
          ]
        }
      ],
      "source": [
        "optimize_train = OptimizeTrain()\n",
        "cm_max_proba_results = least_confident_samples_results\n",
        "cm_std_results = optimize_train.train_and_score(x_train_full, y_train_full, x_test_full, y_test_full, confidence_measure = \"std\")\n",
        "cm_top_two_results = optimize_train.train_and_score(x_train_full, y_train_full, x_test_full, y_test_full, confidence_measure = \"top_two\")"
      ]
    },
    {
      "cell_type": "code",
      "execution_count": null,
      "metadata": {
        "colab": {
          "base_uri": "https://localhost:8080/",
          "height": 295
        },
        "id": "LtW9YoVp2qTi",
        "outputId": "dc61cdf5-df40-43af-ddfb-794ce6143456"
      },
      "outputs": [
        {
          "data": {
            "image/png": "[encoded data removed]",
            "text/plain": [
              "<Figure size 432x288 with 1 Axes>"
            ]
          },
          "metadata": {},
          "output_type": "display_data"
        }
      ],
      "source": [
        "import matplotlib.pyplot as plt\n",
        "plt.hlines(y=full_training_score, xmin=1000, xmax=10000, color = 'r', label = \"Full Training Data (48k)\")\n",
        "plt.plot(list(cm_max_proba_results.keys()), list(cm_max_proba_results.values()), label = \"Max Proba\")\n",
        "plt.plot(list(cm_std_results.keys()), list(cm_std_results.values()), label = \"Standard Deviation\")\n",
        "plt.plot(list(cm_top_two_results.keys()), list(cm_top_two_results.values()), label = \"Top Two\")\n",
        "plt.title(\"Training Data\")\n",
        "plt.xlabel(\"Training Size\")\n",
        "plt.ylabel(\"Model Accuracy\")\n",
        "plt.legend()\n",
        "plt.show()"
      ]
    },
    {
      "cell_type": "markdown",
      "source": [
        "While this graph is still relatively clear, heat maps can be a great way to represent lots of data."
      ],
      "metadata": {
        "id": "j907zCwZPfRf"
      }
    },
    {
      "cell_type": "code",
      "execution_count": null,
      "metadata": {
        "colab": {
          "base_uri": "https://localhost:8080/",
          "height": 265
        },
        "id": "Zr6TxkOhNlBU",
        "outputId": "9904a9b7-dba0-49df-f2c0-4c49cc2005c9"
      },
      "outputs": [
        {
          "data": {
            "image/png": "[encoded data removed]",
            "text/plain": [
              "<Figure size 432x288 with 2 Axes>"
            ]
          },
          "metadata": {},
          "output_type": "display_data"
        },
        {
          "name": "stdout",
          "output_type": "stream",
          "text": [
            "Key: (0: Max Proba) (1: Standard Deviation) (2: Top Two)\n"
          ]
        }
      ],
      "source": [
        "result_table = np.array([list(cm_max_proba_results.values()), list(cm_std_results.values()), list(cm_top_two_results.values())])\n",
        "plt.imshow(result_table, cmap = 'jet')\n",
        "plt.colorbar()\n",
        "plt.show()\n",
        "print(\"Key: (0: Max Proba) (1: Standard Deviation) (2: Top Two)\")"
      ]
    },
    {
      "cell_type": "markdown",
      "metadata": {
        "id": "xE4IuCdy05EF"
      },
      "source": [
        "All three methods of measuring confidence are comparable."
      ]
    },
    {
      "cell_type": "markdown",
      "metadata": {
        "id": "sgVbepzI70Xs"
      },
      "source": [
        "#Different step sizes\n",
        "The amount of new least confident training data added and retrained on at each step."
      ]
    },
    {
      "cell_type": "code",
      "execution_count": null,
      "metadata": {
        "id": "WVFFcEIM5PTt"
      },
      "outputs": [],
      "source": [
        "optimize_train = OptimizeTrain()\n",
        "step_sizes = [2000, 1000, 500, 200, 100]\n",
        "\n",
        "step_size_results_dict = {}\n",
        "\n",
        "for step_size in step_sizes:\n",
        "  print(str(step_size) + \": \", end = \"\\t\")\n",
        "  step_size_results_dict[step_size] = optimize_train.train_and_score(x_train_full, y_train_full, x_test_full, y_test_full, step_size = step_size)"
      ]
    },
    {
      "cell_type": "code",
      "execution_count": null,
      "metadata": {
        "colab": {
          "base_uri": "https://localhost:8080/",
          "height": 295
        },
        "id": "o1fYmbXdrkBi",
        "outputId": "8f300651-30e7-40f4-ff21-6d2c7edd3f5e"
      },
      "outputs": [
        {
          "output_type": "display_data",
          "data": {
            "text/plain": [
              "<Figure size 432x288 with 1 Axes>"
            ],
            "image/png": "[encoded data removed]"
          },
          "metadata": {
            "needs_background": "light"
          }
        }
      ],
      "source": [
        "import matplotlib.pyplot as plt\n",
        "\n",
        "for step_size in step_size_results_dict.keys():\n",
        "  results_dict = step_size_results_dict[step_size]\n",
        "  plt.plot(list(results_dict.keys()), list(results_dict.values()), label = step_size)\n",
        "\n",
        "plt.ylim(0.91, 0.97)\n",
        "plt.title(\"Training Data\")\n",
        "plt.title(\"Training Performance\")\n",
        "plt.xlabel(\"Training Size\")\n",
        "plt.ylabel(\"Model Accuracy\")\n",
        "plt.legend()\n",
        "plt.show()"
      ]
    },
    {
      "cell_type": "code",
      "source": [
        "def showHeatMap(results_dict_dict, step_size = 1000, full_size = 10000): #assumes first index is at step_size\n",
        "  results_table = []\n",
        "  results_dict_list = list(results_dict_dict.values())\n",
        "\n",
        "  iterations = int(full_size / step_size)\n",
        "\n",
        "  for results_dict in results_dict_list:\n",
        "    row = list()\n",
        "    for i in range(iterations):\n",
        "      key = (i + 1) * step_size\n",
        "      if key in results_dict.keys():\n",
        "        row.append(results_dict[key])\n",
        "      elif len(row) > 0:\n",
        "        row.append(row[-1])\n",
        "      else:\n",
        "        row.append(0)\n",
        "    results_table.append(row)\n",
        "\n",
        "\n",
        "  plt.imshow(np.array(results_table), cmap = 'jet')\n",
        "  plt.colorbar()\n",
        "  plt.show()\n",
        "\n",
        "  print(\"Key: \", end=\"\")\n",
        "  for i in range(len(results_dict_dict.keys())):\n",
        "    print(\"(\" + str(i) + \": \" + str(list(results_dict_dict.keys())[i]), end=\") \")\n"
      ],
      "metadata": {
        "id": "rGQVWuThNpV6"
      },
      "execution_count": null,
      "outputs": []
    },
    {
      "cell_type": "code",
      "source": [
        "results_table = []\n",
        "results_dict_list = list(step_size_results_dict.values())\n",
        "\n",
        "for results_dict in results_dict_list:\n",
        "  row = list()\n",
        "  for i in range(10):\n",
        "    key = i * 1000 + 1000\n",
        "    if key in results_dict.keys():\n",
        "      row.append(results_dict[key])\n",
        "    else:\n",
        "      row.append(results_dict[key+1000])\n",
        "  results_table.append(row)\n",
        "\n",
        "\n",
        "plt.imshow(np.array(results_table), cmap = 'jet')\n",
        "plt.colorbar()\n",
        "plt.title(\"\")\n",
        "plt.xlabel(\"Sample Size\")\n",
        "# plt.xticks(np.arange(1000, 11000, 1000))\n",
        "# plt.gca().set_xticks(np.arange(1000, 11000, 1000))\n",
        "# plt.ylabel(\"See Key\")\n",
        "plt.show()\n",
        "\n",
        "print(\"Key: \", end=\"\")\n",
        "for i in range(len(step_size_results_dict.keys())):\n",
        "  print(\"(\" + str(i) + \": \" + str(list(step_size_results_dict.keys())[i]), end=\") \")"
      ],
      "metadata": {
        "colab": {
          "base_uri": "https://localhost:8080/",
          "height": 265
        },
        "id": "iU7GKtyQwp1j",
        "outputId": "981aaa19-32a3-43da-9649-c274059ef0fa"
      },
      "execution_count": null,
      "outputs": [
        {
          "output_type": "display_data",
          "data": {
            "text/plain": [
              "<Figure size 432x288 with 2 Axes>"
            ],
            "image/png": "[encoded data removed]"
          },
          "metadata": {
            "needs_background": "light"
          }
        },
        {
          "output_type": "stream",
          "name": "stdout",
          "text": [
            "Key: (0: 2000) (1: 1000) (2: 500) (3: 200) (4: 100) "
          ]
        }
      ]
    },
    {
      "cell_type": "markdown",
      "metadata": {
        "id": "GvdYFc5rggMr"
      },
      "source": [
        "#Dimensionality reduction through principal component anaysis\n",
        "\n",
        "The more features our data has, the more data we need to train it. PCA can remove insignificant features from our entire dataset,"
      ]
    },
    {
      "cell_type": "code",
      "execution_count": null,
      "metadata": {
        "id": "RaOnMVC3YbXk"
      },
      "outputs": [],
      "source": [
        "from sklearn.decomposition import PCA\n",
        "\n",
        "pca = PCA(n_components = 24, random_state = 0)\n",
        "compressed = pca.fit_transform(data)"
      ]
    },
    {
      "cell_type": "code",
      "execution_count": null,
      "metadata": {
        "id": "EJ6m5LvxiqBy"
      },
      "outputs": [],
      "source": [
        "from sklearn.model_selection import train_test_split\n",
        "x_train_pca, x_test_pca, y_train_pca, y_test_pca = train_test_split(compressed, labels, train_size = 0.80, random_state=0)"
      ]
    },
    {
      "cell_type": "code",
      "execution_count": null,
      "metadata": {
        "colab": {
          "base_uri": "https://localhost:8080/"
        },
        "id": "bdr4M-WUwi6J",
        "outputId": "495a5156-6da4-4536-de85-254afdee4d4b"
      },
      "outputs": [
        {
          "name": "stdout",
          "output_type": "stream",
          "text": [
            "0.96375\n"
          ]
        },
        {
          "name": "stderr",
          "output_type": "stream",
          "text": [
            "/usr/local/lib/python3.7/dist-packages/sklearn/neural_network/_multilayer_perceptron.py:696: ConvergenceWarning: Stochastic Optimizer: Maximum iterations (200) reached and the optimization hasn't converged yet.\n",
            "  ConvergenceWarning,\n"
          ]
        }
      ],
      "source": [
        "from sklearn.neural_network import MLPClassifier\n",
        "\n",
        "clf = MLPClassifier(hidden_layer_sizes = (100, 100), activation = \"logistic\", random_state = 0)\n",
        "clf.fit(x_train_pca, y_train_pca)\n",
        "\n",
        "pca_full_training = clf.score(x_test_pca, y_test_pca)\n",
        "print(pca_full_training)"
      ]
    },
    {
      "cell_type": "code",
      "execution_count": null,
      "metadata": {
        "colab": {
          "base_uri": "https://localhost:8080/"
        },
        "id": "uB4KRzSTVs7V",
        "outputId": "daac0926-64b2-4e34-a2e3-77892a8a0d7f"
      },
      "outputs": [
        {
          "name": "stdout",
          "output_type": "stream",
          "text": [
            "0.96375\n"
          ]
        }
      ],
      "source": [
        "print(pca_full_training)"
      ]
    },
    {
      "cell_type": "markdown",
      "metadata": {
        "id": "NcGepJvcYirb"
      },
      "source": [
        "Training on the full training set with only 24 features (instead of 784) yields a better model accuracy."
      ]
    },
    {
      "cell_type": "code",
      "execution_count": null,
      "metadata": {
        "id": "c8LNWXDcnrJ4"
      },
      "outputs": [],
      "source": [
        "n_components_list = [8, 16, 32, 64, 128, 256, 512, 12, 24, 49, 98, 196, 392, 784]\n",
        "optimize_train = OptimizeTrain()\n",
        "pca_n_components_results_dict = {}\n",
        "\n",
        "for n_components in n_components_list:\n",
        "  pca = PCA(n_components = n_components, random_state = 0)\n",
        "  compressed = pca.fit_transform(data)\n",
        "  x_train_pca, x_test_pca, y_train_pca, y_test_pca = train_test_split(compressed, labels, train_size = 0.80, random_state=0)\n",
        "  pca_n_components_results_dict[n_components] = optimize_train.train_and_score(x_train_pca, y_train_pca, x_test_pca, y_test_pca)\n"
      ]
    },
    {
      "cell_type": "code",
      "execution_count": null,
      "metadata": {
        "colab": {
          "base_uri": "https://localhost:8080/",
          "height": 295
        },
        "id": "sBIb6gJd0DBk",
        "outputId": "70cb940e-a0c7-4805-d2a6-c5a74f9ee419"
      },
      "outputs": [
        {
          "data": {
            "image/png": "[encoded data removed]",
            "text/plain": [
              "<Figure size 432x288 with 1 Axes>"
            ]
          },
          "metadata": {},
          "output_type": "display_data"
        }
      ],
      "source": [
        "import matplotlib.pyplot as plt\n",
        "\n",
        "for n_components in pca_n_components_results_dict.keys():\n",
        "  results_dict = pca_n_components_results_dict[n_components]\n",
        "  plt.plot(list(results_dict.keys()), list(results_dict.values()), label = n_components)\n",
        "\n",
        "# plt.ylim(0.91, 0.97)\n",
        "plt.title(\"Training Data\")\n",
        "plt.title(\"Training Performance\")\n",
        "plt.xlabel(\"Training Size\")\n",
        "plt.ylabel(\"Model Accuracy\")\n",
        "plt.legend()\n",
        "plt.show()"
      ]
    },
    {
      "cell_type": "code",
      "source": [
        "showHeatMap(pca_n_components_results_dict, 1000, 10000)"
      ],
      "metadata": {
        "colab": {
          "base_uri": "https://localhost:8080/",
          "height": 282
        },
        "id": "rxgPT5zAP_K8",
        "outputId": "ca04c5b9-2cfb-40f4-838f-c8a110fe8580"
      },
      "execution_count": null,
      "outputs": [
        {
          "output_type": "display_data",
          "data": {
            "text/plain": [
              "<Figure size 432x288 with 2 Axes>"
            ],
            "image/png": "[encoded data removed]"
          },
          "metadata": {
            "needs_background": "light"
          }
        },
        {
          "output_type": "stream",
          "name": "stdout",
          "text": [
            "Key: (0: 8) (1: 12) (2: 16) (3: 24) (4: 32) (5: 49) (6: 64) (7: 98) (8: 128) (9: 196) (10: 256) (11: 392) (12: 512) (13: 784) "
          ]
        }
      ]
    },
    {
      "cell_type": "code",
      "execution_count": null,
      "metadata": {
        "colab": {
          "base_uri": "https://localhost:8080/",
          "height": 295
        },
        "id": "XpprjfvtXo2s",
        "outputId": "4ecc75e9-9416-4579-c76c-1e08b4bda5ab"
      },
      "outputs": [
        {
          "output_type": "display_data",
          "data": {
            "text/plain": [
              "<Figure size 432x288 with 1 Axes>"
            ],
            "image/png": "[encoded data removed]"
          },
          "metadata": {
            "needs_background": "light"
          }
        }
      ],
      "source": [
        "import matplotlib.pyplot as plt\n",
        "import collections\n",
        "\n",
        "pca_final_accuracy = {}\n",
        "\n",
        "pca_n_components_results_dict = collections.OrderedDict(sorted(pca_n_components_results_dict.items()))\n",
        "\n",
        "for n_components in pca_n_components_results_dict.keys():\n",
        "  # print(list(pca_n_components_results_dict[n_components].values())[-1])\n",
        "  # plt.plot(n_components, list(pca_n_components_results_dict[n_components].values())[-1])\n",
        "  plt.bar(str(n_components), list(pca_n_components_results_dict[n_components].values())[-1])\n",
        "\n",
        "plt.title(\"n_components vs. Final Model Accuracy\")\n",
        "plt.xlabel(\"N Components\")\n",
        "plt.ylabel(\"Model Accuracy\")\n",
        "plt.ylim(0.85, 0.97)\n",
        "# plt.legend()\n",
        "plt.show()"
      ]
    },
    {
      "cell_type": "code",
      "execution_count": null,
      "metadata": {
        "colab": {
          "base_uri": "https://localhost:8080/"
        },
        "id": "r8YGEfCspUI_",
        "outputId": "7773092a-9230-412e-8924-0efebe4bb249"
      },
      "outputs": [
        {
          "output_type": "stream",
          "name": "stderr",
          "text": [
            "/usr/local/lib/python3.7/dist-packages/sklearn/neural_network/_multilayer_perceptron.py:696: ConvergenceWarning: Stochastic Optimizer: Maximum iterations (200) reached and the optimization hasn't converged yet.\n",
            "  ConvergenceWarning,\n",
            "/usr/local/lib/python3.7/dist-packages/sklearn/neural_network/_multilayer_perceptron.py:696: ConvergenceWarning: Stochastic Optimizer: Maximum iterations (200) reached and the optimization hasn't converged yet.\n",
            "  ConvergenceWarning,\n",
            "/usr/local/lib/python3.7/dist-packages/sklearn/neural_network/_multilayer_perceptron.py:696: ConvergenceWarning: Stochastic Optimizer: Maximum iterations (200) reached and the optimization hasn't converged yet.\n",
            "  ConvergenceWarning,\n",
            "/usr/local/lib/python3.7/dist-packages/sklearn/neural_network/_multilayer_perceptron.py:696: ConvergenceWarning: Stochastic Optimizer: Maximum iterations (200) reached and the optimization hasn't converged yet.\n",
            "  ConvergenceWarning,\n",
            "/usr/local/lib/python3.7/dist-packages/sklearn/neural_network/_multilayer_perceptron.py:696: ConvergenceWarning: Stochastic Optimizer: Maximum iterations (200) reached and the optimization hasn't converged yet.\n",
            "  ConvergenceWarning,\n",
            "/usr/local/lib/python3.7/dist-packages/sklearn/neural_network/_multilayer_perceptron.py:696: ConvergenceWarning: Stochastic Optimizer: Maximum iterations (200) reached and the optimization hasn't converged yet.\n",
            "  ConvergenceWarning,\n"
          ]
        },
        {
          "output_type": "stream",
          "name": "stdout",
          "text": [
            "Training complete in  3m33s\n"
          ]
        }
      ],
      "source": [
        "from sklearn.decomposition import PCA\n",
        "optimize_train = OptimizeTrain()\n",
        "\n",
        "pca = PCA(n_components = 24, random_state = 0)\n",
        "compressed = pca.fit_transform(data)\n",
        "x_train_pca, x_test_pca, y_train_pca, y_test_pca = train_test_split(compressed, labels, train_size = 0.80, random_state=0)\n",
        "pca_24_results_dict = optimize_train.train_and_score(x_train_pca, y_train_pca, x_test_pca, y_test_pca)"
      ]
    },
    {
      "cell_type": "code",
      "source": [
        "import matplotlib.pyplot as plt\n",
        "\n",
        "plt.hlines(y=full_training_score, xmin=1000, xmax=10000, color = 'r', label = \"Full Training Data (48k)\")\n",
        "plt.plot(list(least_confident_samples_results.keys()), list(least_confident_samples_results.values()), label = \"Least confident (10k)\")\n",
        "plt.plot(list(pca_24_results_dict.keys()), list(pca_24_results_dict.values()), label = \"PCA 24 (10k)\")\n",
        "plt.title(\"Training Data\")\n",
        "plt.xlabel(\"Training Size\")\n",
        "plt.ylabel(\"Model Accuracy\")\n",
        "plt.legend()\n",
        "plt.show()"
      ],
      "metadata": {
        "colab": {
          "base_uri": "https://localhost:8080/",
          "height": 295
        },
        "id": "aHd0a0xySrnq",
        "outputId": "87d6c25b-76c1-4c2b-a891-c030541bb4ad"
      },
      "execution_count": null,
      "outputs": [
        {
          "output_type": "display_data",
          "data": {
            "text/plain": [
              "<Figure size 432x288 with 1 Axes>"
            ],
            "image/png": "[encoded data removed]"
          },
          "metadata": {
            "needs_background": "light"
          }
        }
      ]
    },
    {
      "cell_type": "code",
      "execution_count": null,
      "metadata": {
        "colab": {
          "base_uri": "https://localhost:8080/",
          "height": 282
        },
        "id": "1NS4n88dw-4W",
        "outputId": "064fcfed-40b2-4575-f1c5-f010ed342d97"
      },
      "outputs": [
        {
          "output_type": "execute_result",
          "data": {
            "text/plain": [
              "<matplotlib.legend.Legend at 0x7f7e4840c810>"
            ]
          },
          "metadata": {},
          "execution_count": 110
        },
        {
          "output_type": "display_data",
          "data": {
            "text/plain": [
              "<Figure size 432x288 with 1 Axes>"
            ],
            "image/png": "[encoded data removed]"
          },
          "metadata": {
            "needs_background": "light"
          }
        }
      ],
      "source": [
        "import matplotlib.pyplot as plt\n",
        "\n",
        "plt.hlines(y=full_training_score, xmin=1000, xmax=10000, color = 'r', label = \"Full Training Data (48k)\")\n",
        "plt.plot(list(least_confident_samples_results.keys()), list(least_confident_samples_results.values()), label = \"Least confident (10k)\")\n",
        "plt.plot(list(pca_24_results_dict.keys()), list(pca_24_results_dict.values()), label = \"PCA (10k)\")\n",
        "plt.title(\"Training Data\")\n",
        "plt.xlabel(\"Training Size\")\n",
        "plt.ylabel(\"Model Accuracy\")\n",
        "plt.legend()\n",
        "plt.show()"
      ]
    },
    {
      "cell_type": "code",
      "source": [],
      "metadata": {
        "id": "R07X2eVsRTjC"
      },
      "execution_count": null,
      "outputs": []
    },
    {
      "cell_type": "code",
      "execution_count": null,
      "metadata": {
        "colab": {
          "base_uri": "https://localhost:8080/",
          "height": 132
        },
        "id": "OdVAEYqY6_65",
        "outputId": "af6f2c8e-c538-4bb8-f673-2c033affdab6"
      },
      "outputs": [
        {
          "output_type": "execute_result",
          "data": {
            "text/plain": [
              "<matplotlib.image.AxesImage at 0x7f7e481de950>"
            ]
          },
          "metadata": {},
          "execution_count": 111
        },
        {
          "output_type": "display_data",
          "data": {
            "text/plain": [
              "<Figure size 432x288 with 1 Axes>"
            ],
            "image/png": "[encoded data removed]"
          },
          "metadata": {
            "needs_background": "light"
          }
        }
      ],
      "source": [
        "plt.imshow(np.array([list(least_confident_samples_results.values()), list(pca_24_results_dict.values())]), cmap = 'jet')"
      ]
    },
    {
      "cell_type": "code",
      "execution_count": null,
      "metadata": {
        "colab": {
          "base_uri": "https://localhost:8080/"
        },
        "id": "0pqs0ZB07ptk",
        "outputId": "54732dd7-f549-488d-d335-2fda05803904"
      },
      "outputs": [
        {
          "output_type": "execute_result",
          "data": {
            "text/plain": [
              "array([[0.88758333, 0.91333333, 0.93558333, 0.94208333, 0.94733333,\n",
              "        0.94916667, 0.948     , 0.94991667, 0.95041667, 0.95508333],\n",
              "       [0.85308333, 0.8795    , 0.89158333, 0.91141667, 0.92383333,\n",
              "        0.92975   , 0.93258333, 0.9405    , 0.94733333, 0.94966667]])"
            ]
          },
          "metadata": {},
          "execution_count": 112
        }
      ],
      "source": [
        "np.array([list(least_confident_samples_results.values()), list(pca_24_results_dict.values())])"
      ]
    },
    {
      "cell_type": "markdown",
      "metadata": {
        "id": "QuGiNaOWqjPR"
      },
      "source": [
        "Reached comparable accuracy and trained faster (5m13s vs 3m35s). Unfortunately, PCA doesn't seem be able to surpass accuracy of traing with all the features."
      ]
    },
    {
      "cell_type": "code",
      "execution_count": null,
      "metadata": {
        "id": "lTy6k7sMxElm"
      },
      "outputs": [],
      "source": [
        "from sklearn.discriminant_analysis import LinearDiscriminantAnalysis\n",
        "lda = LinearDiscriminantAnalysis(n_components=8)\n",
        "compressed = lda.fit_transform(data, labels)"
      ]
    },
    {
      "cell_type": "code",
      "execution_count": null,
      "metadata": {
        "id": "p8f6ptihr5JR"
      },
      "outputs": [],
      "source": [
        "from sklearn.model_selection import train_test_split\n",
        "x_train_lda, x_test_lda, y_train_lda, y_test_lda = train_test_split(compressed, labels, train_size = 0.80, random_state=0)"
      ]
    },
    {
      "cell_type": "code",
      "execution_count": null,
      "metadata": {
        "colab": {
          "base_uri": "https://localhost:8080/"
        },
        "id": "MBpzQyouszFt",
        "outputId": "8a582195-d08a-420c-9a7e-51f24ffe9faa"
      },
      "outputs": [
        {
          "output_type": "stream",
          "name": "stdout",
          "text": [
            "0.9254166666666667\n"
          ]
        },
        {
          "output_type": "stream",
          "name": "stderr",
          "text": [
            "/usr/local/lib/python3.7/dist-packages/sklearn/neural_network/_multilayer_perceptron.py:696: ConvergenceWarning: Stochastic Optimizer: Maximum iterations (200) reached and the optimization hasn't converged yet.\n",
            "  ConvergenceWarning,\n"
          ]
        }
      ],
      "source": [
        "from sklearn.neural_network import MLPClassifier\n",
        "\n",
        "clf = MLPClassifier(hidden_layer_sizes = (100, 100), activation = \"logistic\", random_state = 0)\n",
        "clf.fit(x_train_lda, y_train_lda)\n",
        "\n",
        "lda_full_training = clf.score(x_test_lda, y_test_lda)\n",
        "print(lda_full_training)"
      ]
    },
    {
      "cell_type": "code",
      "execution_count": null,
      "metadata": {
        "id": "phFU2_U3s-E1",
        "colab": {
          "base_uri": "https://localhost:8080/"
        },
        "outputId": "6e81c6f1-5444-41e6-a7a8-aa0e9d3f8eaa"
      },
      "outputs": [
        {
          "output_type": "stream",
          "name": "stderr",
          "text": [
            "/usr/local/lib/python3.7/dist-packages/sklearn/neural_network/_multilayer_perceptron.py:696: ConvergenceWarning: Stochastic Optimizer: Maximum iterations (200) reached and the optimization hasn't converged yet.\n",
            "  ConvergenceWarning,\n",
            "/usr/local/lib/python3.7/dist-packages/sklearn/neural_network/_multilayer_perceptron.py:696: ConvergenceWarning: Stochastic Optimizer: Maximum iterations (200) reached and the optimization hasn't converged yet.\n",
            "  ConvergenceWarning,\n",
            "/usr/local/lib/python3.7/dist-packages/sklearn/neural_network/_multilayer_perceptron.py:696: ConvergenceWarning: Stochastic Optimizer: Maximum iterations (200) reached and the optimization hasn't converged yet.\n",
            "  ConvergenceWarning,\n",
            "/usr/local/lib/python3.7/dist-packages/sklearn/neural_network/_multilayer_perceptron.py:696: ConvergenceWarning: Stochastic Optimizer: Maximum iterations (200) reached and the optimization hasn't converged yet.\n",
            "  ConvergenceWarning,\n",
            "/usr/local/lib/python3.7/dist-packages/sklearn/neural_network/_multilayer_perceptron.py:696: ConvergenceWarning: Stochastic Optimizer: Maximum iterations (200) reached and the optimization hasn't converged yet.\n",
            "  ConvergenceWarning,\n",
            "/usr/local/lib/python3.7/dist-packages/sklearn/neural_network/_multilayer_perceptron.py:696: ConvergenceWarning: Stochastic Optimizer: Maximum iterations (200) reached and the optimization hasn't converged yet.\n",
            "  ConvergenceWarning,\n",
            "/usr/local/lib/python3.7/dist-packages/sklearn/neural_network/_multilayer_perceptron.py:696: ConvergenceWarning: Stochastic Optimizer: Maximum iterations (200) reached and the optimization hasn't converged yet.\n",
            "  ConvergenceWarning,\n",
            "/usr/local/lib/python3.7/dist-packages/sklearn/neural_network/_multilayer_perceptron.py:696: ConvergenceWarning: Stochastic Optimizer: Maximum iterations (200) reached and the optimization hasn't converged yet.\n",
            "  ConvergenceWarning,\n",
            "/usr/local/lib/python3.7/dist-packages/sklearn/neural_network/_multilayer_perceptron.py:696: ConvergenceWarning: Stochastic Optimizer: Maximum iterations (200) reached and the optimization hasn't converged yet.\n",
            "  ConvergenceWarning,\n",
            "/usr/local/lib/python3.7/dist-packages/sklearn/neural_network/_multilayer_perceptron.py:696: ConvergenceWarning: Stochastic Optimizer: Maximum iterations (200) reached and the optimization hasn't converged yet.\n",
            "  ConvergenceWarning,\n"
          ]
        },
        {
          "output_type": "stream",
          "name": "stdout",
          "text": [
            "Training complete in  3m59s\n"
          ]
        }
      ],
      "source": [
        "optimize_train = OptimizeTrain()\n",
        "lda_results_dict = optimize_train.train_and_score(x_train_lda, y_train_lda, x_test_lda, y_test_lda)"
      ]
    },
    {
      "cell_type": "code",
      "source": [
        "import matplotlib.pyplot as plt\n",
        "\n",
        "plt.hlines(y=full_training_score, xmin=1000, xmax=10000, color = 'r', label = \"Full Training Data (48k)\")\n",
        "plt.plot(list(least_confident_samples_results.keys()), list(least_confident_samples_results.values()), label = \"Least confident (10k)\")\n",
        "plt.plot(list(pca_24_results_dict.keys()), list(pca_24_results_dict.values()), label = \"PCA (10k)\")\n",
        "plt.plot(list(lda_results_dict.keys()), list(lda_results_dict.values()), label = \"LDA (10k)\")\n",
        "plt.title(\"Training Data\")\n",
        "plt.xlabel(\"Training Size\")\n",
        "plt.ylabel(\"Model Accuracy\")\n",
        "plt.legend()\n",
        "plt.show()"
      ],
      "metadata": {
        "colab": {
          "base_uri": "https://localhost:8080/",
          "height": 295
        },
        "id": "gYyfbKBUVCZy",
        "outputId": "cce5ea13-1990-45df-997d-dfdfe91e2e55"
      },
      "execution_count": null,
      "outputs": [
        {
          "output_type": "display_data",
          "data": {
            "text/plain": [
              "<Figure size 432x288 with 1 Axes>"
            ],
            "image/png": "[encoded data removed]"
          },
          "metadata": {
            "needs_background": "light"
          }
        }
      ]
    },
    {
      "cell_type": "code",
      "execution_count": null,
      "metadata": {
        "colab": {
          "base_uri": "https://localhost:8080/",
          "height": 282
        },
        "id": "QDGrXack2feo",
        "outputId": "1302ecf9-cc33-4118-fc75-973f617c7891"
      },
      "outputs": [
        {
          "output_type": "execute_result",
          "data": {
            "text/plain": [
              "<matplotlib.legend.Legend at 0x7f7e48092f50>"
            ]
          },
          "metadata": {},
          "execution_count": 117
        },
        {
          "output_type": "display_data",
          "data": {
            "text/plain": [
              "<Figure size 432x288 with 1 Axes>"
            ],
            "image/png": "[encoded data removed]"
          },
          "metadata": {
            "needs_background": "light"
          }
        }
      ],
      "source": [
        "import matplotlib.pyplot as plt\n",
        "\n",
        "plt.hlines(y=full_training_score, xmin=1000, xmax=10000, color = 'r', label = \"Full Training Data (48k)\")\n",
        "plt.plot(list(least_confident_samples_results.keys()), list(least_confident_samples_results.values()), label = \"Least confident (10k)\")\n",
        "plt.plot(list(pca_24_results_dict.keys()), list(pca_24_results_dict.values()), label = \"PCA (10k)\")\n",
        "plt.plot(list(lda_results_dict.keys()), list(lda_results_dict.values()), label = \"LDA (10k)\")\n",
        "plt.legend()"
      ]
    },
    {
      "cell_type": "code",
      "execution_count": null,
      "metadata": {
        "id": "xaum8RZT7l9w",
        "colab": {
          "base_uri": "https://localhost:8080/"
        },
        "outputId": "39fd9b90-e102-4ca2-d99c-4aa65f3773ec"
      },
      "outputs": [
        {
          "output_type": "stream",
          "name": "stderr",
          "text": [
            "/usr/local/lib/python3.7/dist-packages/sklearn/manifold/_t_sne.py:783: FutureWarning: The default initialization in TSNE will change from 'random' to 'pca' in 1.2.\n",
            "  FutureWarning,\n",
            "/usr/local/lib/python3.7/dist-packages/sklearn/manifold/_t_sne.py:793: FutureWarning: The default learning rate in TSNE will change from 200.0 to 'auto' in 1.2.\n",
            "  FutureWarning,\n"
          ]
        },
        {
          "output_type": "stream",
          "name": "stdout",
          "text": [
            "[t-SNE] Computing 91 nearest neighbors...\n",
            "[t-SNE] Indexed 60000 samples in 0.050s...\n",
            "[t-SNE] Computed neighbors for 60000 samples in 259.191s...\n",
            "[t-SNE] Computed conditional probabilities for sample 1000 / 60000\n",
            "[t-SNE] Computed conditional probabilities for sample 2000 / 60000\n",
            "[t-SNE] Computed conditional probabilities for sample 3000 / 60000\n",
            "[t-SNE] Computed conditional probabilities for sample 4000 / 60000\n",
            "[t-SNE] Computed conditional probabilities for sample 5000 / 60000\n",
            "[t-SNE] Computed conditional probabilities for sample 6000 / 60000\n",
            "[t-SNE] Computed conditional probabilities for sample 7000 / 60000\n",
            "[t-SNE] Computed conditional probabilities for sample 8000 / 60000\n",
            "[t-SNE] Computed conditional probabilities for sample 9000 / 60000\n",
            "[t-SNE] Computed conditional probabilities for sample 10000 / 60000\n",
            "[t-SNE] Computed conditional probabilities for sample 11000 / 60000\n",
            "[t-SNE] Computed conditional probabilities for sample 12000 / 60000\n",
            "[t-SNE] Computed conditional probabilities for sample 13000 / 60000\n",
            "[t-SNE] Computed conditional probabilities for sample 14000 / 60000\n",
            "[t-SNE] Computed conditional probabilities for sample 15000 / 60000\n",
            "[t-SNE] Computed conditional probabilities for sample 16000 / 60000\n",
            "[t-SNE] Computed conditional probabilities for sample 17000 / 60000\n",
            "[t-SNE] Computed conditional probabilities for sample 18000 / 60000\n",
            "[t-SNE] Computed conditional probabilities for sample 19000 / 60000\n",
            "[t-SNE] Computed conditional probabilities for sample 20000 / 60000\n",
            "[t-SNE] Computed conditional probabilities for sample 21000 / 60000\n",
            "[t-SNE] Computed conditional probabilities for sample 22000 / 60000\n",
            "[t-SNE] Computed conditional probabilities for sample 23000 / 60000\n",
            "[t-SNE] Computed conditional probabilities for sample 24000 / 60000\n",
            "[t-SNE] Computed conditional probabilities for sample 25000 / 60000\n",
            "[t-SNE] Computed conditional probabilities for sample 26000 / 60000\n",
            "[t-SNE] Computed conditional probabilities for sample 27000 / 60000\n",
            "[t-SNE] Computed conditional probabilities for sample 28000 / 60000\n",
            "[t-SNE] Computed conditional probabilities for sample 29000 / 60000\n",
            "[t-SNE] Computed conditional probabilities for sample 30000 / 60000\n",
            "[t-SNE] Computed conditional probabilities for sample 31000 / 60000\n",
            "[t-SNE] Computed conditional probabilities for sample 32000 / 60000\n",
            "[t-SNE] Computed conditional probabilities for sample 33000 / 60000\n",
            "[t-SNE] Computed conditional probabilities for sample 34000 / 60000\n",
            "[t-SNE] Computed conditional probabilities for sample 35000 / 60000\n",
            "[t-SNE] Computed conditional probabilities for sample 36000 / 60000\n",
            "[t-SNE] Computed conditional probabilities for sample 37000 / 60000\n",
            "[t-SNE] Computed conditional probabilities for sample 38000 / 60000\n",
            "[t-SNE] Computed conditional probabilities for sample 39000 / 60000\n",
            "[t-SNE] Computed conditional probabilities for sample 40000 / 60000\n",
            "[t-SNE] Computed conditional probabilities for sample 41000 / 60000\n",
            "[t-SNE] Computed conditional probabilities for sample 42000 / 60000\n",
            "[t-SNE] Computed conditional probabilities for sample 43000 / 60000\n",
            "[t-SNE] Computed conditional probabilities for sample 44000 / 60000\n",
            "[t-SNE] Computed conditional probabilities for sample 45000 / 60000\n",
            "[t-SNE] Computed conditional probabilities for sample 46000 / 60000\n",
            "[t-SNE] Computed conditional probabilities for sample 47000 / 60000\n",
            "[t-SNE] Computed conditional probabilities for sample 48000 / 60000\n",
            "[t-SNE] Computed conditional probabilities for sample 49000 / 60000\n",
            "[t-SNE] Computed conditional probabilities for sample 50000 / 60000\n",
            "[t-SNE] Computed conditional probabilities for sample 51000 / 60000\n",
            "[t-SNE] Computed conditional probabilities for sample 52000 / 60000\n",
            "[t-SNE] Computed conditional probabilities for sample 53000 / 60000\n",
            "[t-SNE] Computed conditional probabilities for sample 54000 / 60000\n",
            "[t-SNE] Computed conditional probabilities for sample 55000 / 60000\n",
            "[t-SNE] Computed conditional probabilities for sample 56000 / 60000\n",
            "[t-SNE] Computed conditional probabilities for sample 57000 / 60000\n",
            "[t-SNE] Computed conditional probabilities for sample 58000 / 60000\n",
            "[t-SNE] Computed conditional probabilities for sample 59000 / 60000\n",
            "[t-SNE] Computed conditional probabilities for sample 60000 / 60000\n",
            "[t-SNE] Mean sigma: 419.405861\n",
            "[t-SNE] KL divergence after 250 iterations with early exaggeration: 97.264595\n",
            "[t-SNE] KL divergence after 1000 iterations: 3.040395\n",
            "0.9674166666666667\n"
          ]
        },
        {
          "output_type": "stream",
          "name": "stderr",
          "text": [
            "/usr/local/lib/python3.7/dist-packages/sklearn/neural_network/_multilayer_perceptron.py:696: ConvergenceWarning: Stochastic Optimizer: Maximum iterations (200) reached and the optimization hasn't converged yet.\n",
            "  ConvergenceWarning,\n"
          ]
        }
      ],
      "source": [
        "from sklearn.manifold import TSNE\n",
        "from sklearn.neural_network import MLPClassifier\n",
        "from sklearn.model_selection import train_test_split\n",
        "\n",
        "tsne = TSNE(n_components=2, verbose=1, random_state=0)\n",
        "\n",
        "compressed = tsne.fit_transform(data, labels)\n",
        "\n",
        "x_train_tsne, x_test_tsne, y_train_tsne, y_test_tsne = train_test_split(compressed, labels, train_size = 0.80, random_state=0)\n",
        "\n",
        "clf = MLPClassifier(hidden_layer_sizes = (100, 100), activation = \"logistic\", random_state = 0)\n",
        "clf.fit(x_train_tsne, y_train_tsne)\n",
        "\n",
        "tsne_full_training = clf.score(x_test_tsne, y_test_tsne)\n",
        "print(tsne_full_training)"
      ]
    },
    {
      "cell_type": "code",
      "execution_count": null,
      "metadata": {
        "colab": {
          "base_uri": "https://localhost:8080/"
        },
        "id": "54yLjAp77mRA",
        "outputId": "202e376e-35af-4043-e6e0-0ac4e3e91de2"
      },
      "outputs": [
        {
          "output_type": "stream",
          "name": "stderr",
          "text": [
            "/usr/local/lib/python3.7/dist-packages/sklearn/neural_network/_multilayer_perceptron.py:696: ConvergenceWarning: Stochastic Optimizer: Maximum iterations (200) reached and the optimization hasn't converged yet.\n",
            "  ConvergenceWarning,\n",
            "/usr/local/lib/python3.7/dist-packages/sklearn/neural_network/_multilayer_perceptron.py:696: ConvergenceWarning: Stochastic Optimizer: Maximum iterations (200) reached and the optimization hasn't converged yet.\n",
            "  ConvergenceWarning,\n",
            "/usr/local/lib/python3.7/dist-packages/sklearn/neural_network/_multilayer_perceptron.py:696: ConvergenceWarning: Stochastic Optimizer: Maximum iterations (200) reached and the optimization hasn't converged yet.\n",
            "  ConvergenceWarning,\n",
            "/usr/local/lib/python3.7/dist-packages/sklearn/neural_network/_multilayer_perceptron.py:696: ConvergenceWarning: Stochastic Optimizer: Maximum iterations (200) reached and the optimization hasn't converged yet.\n",
            "  ConvergenceWarning,\n",
            "/usr/local/lib/python3.7/dist-packages/sklearn/neural_network/_multilayer_perceptron.py:696: ConvergenceWarning: Stochastic Optimizer: Maximum iterations (200) reached and the optimization hasn't converged yet.\n",
            "  ConvergenceWarning,\n",
            "/usr/local/lib/python3.7/dist-packages/sklearn/neural_network/_multilayer_perceptron.py:696: ConvergenceWarning: Stochastic Optimizer: Maximum iterations (200) reached and the optimization hasn't converged yet.\n",
            "  ConvergenceWarning,\n",
            "/usr/local/lib/python3.7/dist-packages/sklearn/neural_network/_multilayer_perceptron.py:696: ConvergenceWarning: Stochastic Optimizer: Maximum iterations (200) reached and the optimization hasn't converged yet.\n",
            "  ConvergenceWarning,\n",
            "/usr/local/lib/python3.7/dist-packages/sklearn/neural_network/_multilayer_perceptron.py:696: ConvergenceWarning: Stochastic Optimizer: Maximum iterations (200) reached and the optimization hasn't converged yet.\n",
            "  ConvergenceWarning,\n",
            "/usr/local/lib/python3.7/dist-packages/sklearn/neural_network/_multilayer_perceptron.py:696: ConvergenceWarning: Stochastic Optimizer: Maximum iterations (200) reached and the optimization hasn't converged yet.\n",
            "  ConvergenceWarning,\n",
            "/usr/local/lib/python3.7/dist-packages/sklearn/neural_network/_multilayer_perceptron.py:696: ConvergenceWarning: Stochastic Optimizer: Maximum iterations (200) reached and the optimization hasn't converged yet.\n",
            "  ConvergenceWarning,\n"
          ]
        },
        {
          "output_type": "stream",
          "name": "stdout",
          "text": [
            "Training complete in  2m20s\n"
          ]
        }
      ],
      "source": [
        "optimize_train = OptimizeTrain()\n",
        "tsne_results_dict = optimize_train.train_and_score(x_train_tsne, y_train_tsne, x_test_tsne, y_test_tsne)"
      ]
    },
    {
      "cell_type": "code",
      "execution_count": null,
      "metadata": {
        "colab": {
          "base_uri": "https://localhost:8080/",
          "height": 295
        },
        "id": "X1T26UK3HQcH",
        "outputId": "60be07c1-1d46-4b26-f7a7-da6da37c0b23"
      },
      "outputs": [
        {
          "output_type": "display_data",
          "data": {
            "text/plain": [
              "<Figure size 432x288 with 1 Axes>"
            ],
            "image/png": "[encoded data removed]"
          },
          "metadata": {
            "needs_background": "light"
          }
        }
      ],
      "source": [
        "import matplotlib.pyplot as plt\n",
        "\n",
        "plt.hlines(y=full_training_score, xmin=1000, xmax=10000, color = 'r', label = \"Full Training Data (48k)\")\n",
        "plt.plot(list(least_confident_samples_results.keys()), list(least_confident_samples_results.values()), label = \"Least confident (10k)\")\n",
        "plt.plot(list(pca_24_results_dict.keys()), list(pca_24_results_dict.values()), label = \"PCA (10k)\")\n",
        "plt.plot(list(lda_results_dict.keys()), list(lda_results_dict.values()), label = \"LDA (10k)\")\n",
        "plt.plot(list(tsne_results_dict.keys()), list(tsne_results_dict.values()), label = \"TSNE (10k)\")\n",
        "plt.title(\"Training Data\")\n",
        "plt.xlabel(\"Training Size\")\n",
        "plt.ylabel(\"Model Accuracy\")\n",
        "plt.legend()\n",
        "plt.show()"
      ]
    },
    {
      "cell_type": "markdown",
      "metadata": {
        "id": "gx7XRoHaJ0fQ"
      },
      "source": [
        "t-distributed Stochastic Neighbourhood Embedding (TSNE) dimensionality reduction is able to reduce our features and training time (2m28s), and surpasses the full training data accuracy with less than 4k training data!"
      ]
    },
    {
      "cell_type": "code",
      "execution_count": null,
      "metadata": {
        "id": "_5nMIpX1IKSD"
      },
      "outputs": [],
      "source": [
        "optimize_train = OptimizeTrain()\n",
        "confidence_measures = [\"max_proba\", \"std\", \"top_two\"]\n",
        "step_sizes = [2000, 1000, 500, 100]\n",
        "\n",
        "tsne_results_dict = {}\n",
        "\n",
        "for confidence_measure in confidence_measures:\n",
        "  for step_size in step_sizes:\n",
        "    tsne_results_dict[(confidence_measure, step_size)] = optimize_train.train_and_score(x_train_tsne, y_train_tsne, x_test_tsne, y_test_tsne, confidence_measure = confidence_measure, step_size = step_size)"
      ]
    },
    {
      "cell_type": "code",
      "execution_count": null,
      "metadata": {
        "colab": {
          "base_uri": "https://localhost:8080/",
          "height": 286
        },
        "id": "odKgtIyjJwWJ",
        "outputId": "debf1238-94bd-490d-81fb-8bf385466983"
      },
      "outputs": [
        {
          "output_type": "execute_result",
          "data": {
            "text/plain": [
              "(0.85, 0.98)"
            ]
          },
          "metadata": {},
          "execution_count": 121
        },
        {
          "output_type": "display_data",
          "data": {
            "text/plain": [
              "<Figure size 432x288 with 1 Axes>"
            ],
            "image/png": "[encoded data removed]"
          },
          "metadata": {
            "needs_background": "light"
          }
        }
      ],
      "source": [
        "import matplotlib.pyplot as plt\n",
        "\n",
        "plt.hlines(y=full_training_score, xmin=1000, xmax=10000, color = 'black', label = \"Full Training Data (48k)\")\n",
        "plt.plot(list(least_confident_samples_results.keys()), list(least_confident_samples_results.values()), label = \"Least confident (10k)\")\n",
        "\n",
        "colors = {'max_proba': 'green', 'std': 'blue', 'top_two': 'red'}\n",
        "\n",
        "for key in tsne_results_dict:\n",
        "  results_dict = tsne_results_dict[key]\n",
        "  plt.plot(list(results_dict.keys()), list(results_dict.values()), color = colors[key[0]])\n",
        "\n",
        "plt.ylim(0.85, 0.98)"
      ]
    },
    {
      "cell_type": "code",
      "source": [
        "showHeatMap(tsne_results_dict, 100, 3000)"
      ],
      "metadata": {
        "colab": {
          "base_uri": "https://localhost:8080/",
          "height": 291
        },
        "id": "zvOV9HpDwFJ7",
        "outputId": "81b07ebb-9268-47aa-9bd3-ac87daadc960"
      },
      "execution_count": null,
      "outputs": [
        {
          "output_type": "display_data",
          "data": {
            "text/plain": [
              "<Figure size 432x288 with 2 Axes>"
            ],
            "image/png": "[encoded data removed]"
          },
          "metadata": {
            "needs_background": "light"
          }
        },
        {
          "output_type": "stream",
          "name": "stdout",
          "text": [
            "Key: (0: ('max_proba', 2000)) (1: ('max_proba', 1000)) (2: ('max_proba', 500)) (3: ('max_proba', 100)) (4: ('std', 2000)) (5: ('std', 1000)) (6: ('std', 500)) (7: ('std', 100)) (8: ('top_two', 2000)) (9: ('top_two', 1000)) (10: ('top_two', 500)) (11: ('top_two', 100)) "
          ]
        }
      ]
    },
    {
      "cell_type": "markdown",
      "metadata": {
        "id": "r_qz_aTG-roR"
      },
      "source": [
        "Smaller step sizes here with top two confidence measuring are promising, achieving peak accuracy in around 1k samples."
      ]
    },
    {
      "cell_type": "code",
      "execution_count": null,
      "metadata": {
        "colab": {
          "base_uri": "https://localhost:8080/",
          "height": 282
        },
        "id": "t4_GWqUU-ffF",
        "outputId": "c83f8ee2-5387-4a7d-afec-b467e2219cd5"
      },
      "outputs": [
        {
          "data": {
            "text/plain": [
              "[<matplotlib.lines.Line2D at 0x7f11e8d29790>]"
            ]
          },
          "execution_count": 37,
          "metadata": {},
          "output_type": "execute_result"
        },
        {
          "data": {
            "image/png": "[encoded data removed]",
            "text/plain": [
              "<Figure size 432x288 with 1 Axes>"
            ]
          },
          "metadata": {},
          "output_type": "display_data"
        }
      ],
      "source": [
        "results_dict = tsne_results_dict[('top_two', 100)]\n",
        "plt.plot(list(results_dict.keys()), list(results_dict.values()), color = colors[key[0]])\n",
        "plt.ylim()"
      ]
    },
    {
      "cell_type": "code",
      "execution_count": null,
      "metadata": {
        "id": "hKCiMemW7f7n"
      },
      "outputs": [],
      "source": [
        "optimize_train = OptimizeTrain()\n",
        "\n",
        "tsne_2k_results = optimize_train.train_and_score(x_train_tsne, y_train_tsne, x_test_tsne, y_test_tsne, confidence_measure=\"top_two\", step_size=10, training_size=1000)"
      ]
    },
    {
      "cell_type": "code",
      "execution_count": null,
      "metadata": {
        "colab": {
          "base_uri": "https://localhost:8080/",
          "height": 282
        },
        "id": "6Ti4nDQEDTBB",
        "outputId": "c8a026fe-f8ff-4449-9082-eb45cbb46a2e"
      },
      "outputs": [
        {
          "data": {
            "text/plain": [
              "<matplotlib.legend.Legend at 0x7f11e8d68090>"
            ]
          },
          "execution_count": 66,
          "metadata": {},
          "output_type": "execute_result"
        },
        {
          "data": {
            "image/png": "[encoded data removed]",
            "text/plain": [
              "<Figure size 432x288 with 1 Axes>"
            ]
          },
          "metadata": {},
          "output_type": "display_data"
        }
      ],
      "source": [
        "import matplotlib.pyplot as plt\n",
        "\n",
        "plt.hlines(y=full_training_score, xmin=50, xmax=2000, color = 'r', label = \"Full Training Data (48k)\")\n",
        "# plt.plot(list(least_confident_samples_results.keys()), list(least_confident_samples_results.values()), label = \"Least confident (10k)\")\n",
        "plt.plot(list(tsne_2k_results.keys()), list(tsne_2k_results.values()), label = \"TSNE (2k, 50ss)\")\n",
        "plt.legend()"
      ]
    },
    {
      "cell_type": "code",
      "execution_count": null,
      "metadata": {
        "colab": {
          "base_uri": "https://localhost:8080/"
        },
        "id": "lFgD62gBEy5E",
        "outputId": "0cf029a7-6b0d-46f0-a223-ae01a88714f8"
      },
      "outputs": [
        {
          "name": "stderr",
          "output_type": "stream",
          "text": [
            "/usr/local/lib/python3.7/dist-packages/sklearn/neural_network/_multilayer_perceptron.py:696: ConvergenceWarning: Stochastic Optimizer: Maximum iterations (200) reached and the optimization hasn't converged yet.\n",
            "  ConvergenceWarning,\n",
            "/usr/local/lib/python3.7/dist-packages/sklearn/neural_network/_multilayer_perceptron.py:696: ConvergenceWarning: Stochastic Optimizer: Maximum iterations (200) reached and the optimization hasn't converged yet.\n",
            "  ConvergenceWarning,\n",
            "/usr/local/lib/python3.7/dist-packages/sklearn/neural_network/_multilayer_perceptron.py:696: ConvergenceWarning: Stochastic Optimizer: Maximum iterations (200) reached and the optimization hasn't converged yet.\n",
            "  ConvergenceWarning,\n",
            "/usr/local/lib/python3.7/dist-packages/sklearn/neural_network/_multilayer_perceptron.py:696: ConvergenceWarning: Stochastic Optimizer: Maximum iterations (200) reached and the optimization hasn't converged yet.\n",
            "  ConvergenceWarning,\n",
            "/usr/local/lib/python3.7/dist-packages/sklearn/neural_network/_multilayer_perceptron.py:696: ConvergenceWarning: Stochastic Optimizer: Maximum iterations (200) reached and the optimization hasn't converged yet.\n",
            "  ConvergenceWarning,\n",
            "/usr/local/lib/python3.7/dist-packages/sklearn/neural_network/_multilayer_perceptron.py:696: ConvergenceWarning: Stochastic Optimizer: Maximum iterations (200) reached and the optimization hasn't converged yet.\n",
            "  ConvergenceWarning,\n",
            "/usr/local/lib/python3.7/dist-packages/sklearn/neural_network/_multilayer_perceptron.py:696: ConvergenceWarning: Stochastic Optimizer: Maximum iterations (200) reached and the optimization hasn't converged yet.\n",
            "  ConvergenceWarning,\n",
            "/usr/local/lib/python3.7/dist-packages/sklearn/neural_network/_multilayer_perceptron.py:696: ConvergenceWarning: Stochastic Optimizer: Maximum iterations (200) reached and the optimization hasn't converged yet.\n",
            "  ConvergenceWarning,\n",
            "/usr/local/lib/python3.7/dist-packages/sklearn/neural_network/_multilayer_perceptron.py:696: ConvergenceWarning: Stochastic Optimizer: Maximum iterations (200) reached and the optimization hasn't converged yet.\n",
            "  ConvergenceWarning,\n",
            "/usr/local/lib/python3.7/dist-packages/sklearn/neural_network/_multilayer_perceptron.py:696: ConvergenceWarning: Stochastic Optimizer: Maximum iterations (200) reached and the optimization hasn't converged yet.\n",
            "  ConvergenceWarning,\n",
            "/usr/local/lib/python3.7/dist-packages/sklearn/neural_network/_multilayer_perceptron.py:696: ConvergenceWarning: Stochastic Optimizer: Maximum iterations (200) reached and the optimization hasn't converged yet.\n",
            "  ConvergenceWarning,\n",
            "/usr/local/lib/python3.7/dist-packages/sklearn/neural_network/_multilayer_perceptron.py:696: ConvergenceWarning: Stochastic Optimizer: Maximum iterations (200) reached and the optimization hasn't converged yet.\n",
            "  ConvergenceWarning,\n"
          ]
        },
        {
          "name": "stdout",
          "output_type": "stream",
          "text": [
            "Training complete in  0m16s\n"
          ]
        }
      ],
      "source": [
        "optimize_train = OptimizeTrain()\n",
        "\n",
        "tsne_1k_results = optimize_train.train_and_score(x_train_tsne, y_train_tsne, x_test_tsne, y_test_tsne, confidence_measure=\"top_two\", step_size=50, training_size=600)"
      ]
    },
    {
      "cell_type": "code",
      "execution_count": null,
      "metadata": {
        "colab": {
          "base_uri": "https://localhost:8080/",
          "height": 282
        },
        "id": "ghZd2GivDhEt",
        "outputId": "159b2b31-f3e6-4546-e651-04a37d71f235"
      },
      "outputs": [
        {
          "data": {
            "text/plain": [
              "<matplotlib.legend.Legend at 0x7f11e8999f50>"
            ]
          },
          "execution_count": 80,
          "metadata": {},
          "output_type": "execute_result"
        },
        {
          "data": {
            "image/png": "[encoded data removed]",
            "text/plain": [
              "<Figure size 432x288 with 1 Axes>"
            ]
          },
          "metadata": {},
          "output_type": "display_data"
        }
      ],
      "source": [
        "import matplotlib.pyplot as plt\n",
        "\n",
        "plt.hlines(y=full_training_score, xmin=50, xmax=600, color = 'r', label = \"Full Training Data (48k)\")\n",
        "# plt.plot(list(least_confident_samples_results.keys()), list(least_confident_samples_results.values()), label = \"Least confident (10k)\")\n",
        "plt.plot(list(tsne_1k_results.keys()), list(tsne_1k_results.values()), label = \"TSNE (600, 50ss)\")\n",
        "plt.legend()"
      ]
    },
    {
      "cell_type": "code",
      "execution_count": null,
      "metadata": {
        "colab": {
          "base_uri": "https://localhost:8080/"
        },
        "id": "iQZe6s3yGsj6",
        "outputId": "28677c27-b30a-41b1-bbdd-a1ad88be5be7"
      },
      "outputs": [
        {
          "data": {
            "text/plain": [
              "(48000, 2)"
            ]
          },
          "execution_count": 81,
          "metadata": {},
          "output_type": "execute_result"
        }
      ],
      "source": [
        "x_train_tsne.shape"
      ]
    },
    {
      "cell_type": "code",
      "execution_count": null,
      "metadata": {
        "id": "ph18os9dIxtC"
      },
      "outputs": [],
      "source": [
        "from sklearn.manifold import TSNE\n",
        "from sklearn.neural_network import MLPClassifier\n",
        "from sklearn.model_selection import train_test_split\n",
        "\n",
        "tsne2 = TSNE(n_components=3, verbose=1, random_state=0)\n",
        "\n",
        "compressed = tsne2.fit_transform(data, labels)\n",
        "\n",
        "x_train_tsne2, x_test_tsne2, y_train_tsne2, y_test_tsne2 = train_test_split(compressed, labels, train_size = 0.80, random_state=0)\n",
        "\n",
        "clf = MLPClassifier(hidden_layer_sizes = (100, 100), activation = \"logistic\", random_state = 0)\n",
        "clf.fit(x_train_tsne2, y_train_tsne2)\n",
        "\n",
        "print(clf.score(x_test_tsne2, y_test_tsne2))"
      ]
    },
    {
      "cell_type": "code",
      "execution_count": null,
      "metadata": {
        "colab": {
          "base_uri": "https://localhost:8080/"
        },
        "id": "rqLcZHAVJIr_",
        "outputId": "6e306714-e0cf-4b16-8184-09bea29e7612"
      },
      "outputs": [
        {
          "name": "stderr",
          "output_type": "stream",
          "text": [
            "/usr/local/lib/python3.7/dist-packages/sklearn/neural_network/_multilayer_perceptron.py:696: ConvergenceWarning: Stochastic Optimizer: Maximum iterations (200) reached and the optimization hasn't converged yet.\n",
            "  ConvergenceWarning,\n",
            "/usr/local/lib/python3.7/dist-packages/sklearn/neural_network/_multilayer_perceptron.py:696: ConvergenceWarning: Stochastic Optimizer: Maximum iterations (200) reached and the optimization hasn't converged yet.\n",
            "  ConvergenceWarning,\n",
            "/usr/local/lib/python3.7/dist-packages/sklearn/neural_network/_multilayer_perceptron.py:696: ConvergenceWarning: Stochastic Optimizer: Maximum iterations (200) reached and the optimization hasn't converged yet.\n",
            "  ConvergenceWarning,\n",
            "/usr/local/lib/python3.7/dist-packages/sklearn/neural_network/_multilayer_perceptron.py:696: ConvergenceWarning: Stochastic Optimizer: Maximum iterations (200) reached and the optimization hasn't converged yet.\n",
            "  ConvergenceWarning,\n",
            "/usr/local/lib/python3.7/dist-packages/sklearn/neural_network/_multilayer_perceptron.py:696: ConvergenceWarning: Stochastic Optimizer: Maximum iterations (200) reached and the optimization hasn't converged yet.\n",
            "  ConvergenceWarning,\n",
            "/usr/local/lib/python3.7/dist-packages/sklearn/neural_network/_multilayer_perceptron.py:696: ConvergenceWarning: Stochastic Optimizer: Maximum iterations (200) reached and the optimization hasn't converged yet.\n",
            "  ConvergenceWarning,\n",
            "/usr/local/lib/python3.7/dist-packages/sklearn/neural_network/_multilayer_perceptron.py:696: ConvergenceWarning: Stochastic Optimizer: Maximum iterations (200) reached and the optimization hasn't converged yet.\n",
            "  ConvergenceWarning,\n",
            "/usr/local/lib/python3.7/dist-packages/sklearn/neural_network/_multilayer_perceptron.py:696: ConvergenceWarning: Stochastic Optimizer: Maximum iterations (200) reached and the optimization hasn't converged yet.\n",
            "  ConvergenceWarning,\n",
            "/usr/local/lib/python3.7/dist-packages/sklearn/neural_network/_multilayer_perceptron.py:696: ConvergenceWarning: Stochastic Optimizer: Maximum iterations (200) reached and the optimization hasn't converged yet.\n",
            "  ConvergenceWarning,\n"
          ]
        },
        {
          "name": "stdout",
          "output_type": "stream",
          "text": [
            "Training complete in  0m12s\n"
          ]
        }
      ],
      "source": [
        "optimize_train = OptimizeTrain()\n",
        "\n",
        "tsne2_results = optimize_train.train_and_score(x_train_tsne2, y_train_tsne2, x_test_tsne2, y_test_tsne2, confidence_measure=\"top_two\", step_size=50, training_size=450)"
      ]
    },
    {
      "cell_type": "code",
      "execution_count": null,
      "metadata": {
        "colab": {
          "base_uri": "https://localhost:8080/",
          "height": 282
        },
        "id": "h9xdBqNQibg8",
        "outputId": "9f8c1fc3-3705-4682-eea6-565e722c4399"
      },
      "outputs": [
        {
          "data": {
            "text/plain": [
              "<matplotlib.legend.Legend at 0x7f11e86bbf50>"
            ]
          },
          "execution_count": 93,
          "metadata": {},
          "output_type": "execute_result"
        },
        {
          "data": {
            "image/png": "[encoded data removed]",
            "text/plain": [
              "<Figure size 432x288 with 1 Axes>"
            ]
          },
          "metadata": {},
          "output_type": "display_data"
        }
      ],
      "source": [
        "import matplotlib.pyplot as plt\n",
        "\n",
        "plt.hlines(y=full_training_score, xmin=50, xmax=450, color = 'r', label = \"Full Training Data (48k)\")\n",
        "# plt.plot(list(least_confident_samples_results.keys()), list(least_confident_samples_results.values()), label = \"Least confident (10k)\")\n",
        "plt.plot(list(tsne2_results.keys()), list(tsne2_results.values()), label = \"TSNE (600, 50ss)\")\n",
        "plt.legend()"
      ]
    },
    {
      "cell_type": "code",
      "execution_count": null,
      "metadata": {
        "id": "LUd-dElRifOJ",
        "colab": {
          "base_uri": "https://localhost:8080/"
        },
        "outputId": "4f47fd00-d854-424c-c144-e95759a85d83"
      },
      "outputs": [
        {
          "output_type": "stream",
          "name": "stderr",
          "text": [
            "/usr/local/lib/python3.7/dist-packages/sklearn/manifold/_t_sne.py:783: FutureWarning: The default initialization in TSNE will change from 'random' to 'pca' in 1.2.\n",
            "  FutureWarning,\n",
            "/usr/local/lib/python3.7/dist-packages/sklearn/manifold/_t_sne.py:793: FutureWarning: The default learning rate in TSNE will change from 200.0 to 'auto' in 1.2.\n",
            "  FutureWarning,\n"
          ]
        },
        {
          "output_type": "stream",
          "name": "stdout",
          "text": [
            "[t-SNE] Computing 91 nearest neighbors...\n",
            "[t-SNE] Indexed 60000 samples in 0.068s...\n",
            "[t-SNE] Computed neighbors for 60000 samples in 250.533s...\n",
            "[t-SNE] Computed conditional probabilities for sample 1000 / 60000\n",
            "[t-SNE] Computed conditional probabilities for sample 2000 / 60000\n",
            "[t-SNE] Computed conditional probabilities for sample 3000 / 60000\n",
            "[t-SNE] Computed conditional probabilities for sample 4000 / 60000\n",
            "[t-SNE] Computed conditional probabilities for sample 5000 / 60000\n",
            "[t-SNE] Computed conditional probabilities for sample 6000 / 60000\n",
            "[t-SNE] Computed conditional probabilities for sample 7000 / 60000\n",
            "[t-SNE] Computed conditional probabilities for sample 8000 / 60000\n",
            "[t-SNE] Computed conditional probabilities for sample 9000 / 60000\n",
            "[t-SNE] Computed conditional probabilities for sample 10000 / 60000\n",
            "[t-SNE] Computed conditional probabilities for sample 11000 / 60000\n",
            "[t-SNE] Computed conditional probabilities for sample 12000 / 60000\n",
            "[t-SNE] Computed conditional probabilities for sample 13000 / 60000\n",
            "[t-SNE] Computed conditional probabilities for sample 14000 / 60000\n",
            "[t-SNE] Computed conditional probabilities for sample 15000 / 60000\n",
            "[t-SNE] Computed conditional probabilities for sample 16000 / 60000\n",
            "[t-SNE] Computed conditional probabilities for sample 17000 / 60000\n",
            "[t-SNE] Computed conditional probabilities for sample 18000 / 60000\n",
            "[t-SNE] Computed conditional probabilities for sample 19000 / 60000\n",
            "[t-SNE] Computed conditional probabilities for sample 20000 / 60000\n",
            "[t-SNE] Computed conditional probabilities for sample 21000 / 60000\n",
            "[t-SNE] Computed conditional probabilities for sample 22000 / 60000\n",
            "[t-SNE] Computed conditional probabilities for sample 23000 / 60000\n",
            "[t-SNE] Computed conditional probabilities for sample 24000 / 60000\n",
            "[t-SNE] Computed conditional probabilities for sample 25000 / 60000\n",
            "[t-SNE] Computed conditional probabilities for sample 26000 / 60000\n",
            "[t-SNE] Computed conditional probabilities for sample 27000 / 60000\n",
            "[t-SNE] Computed conditional probabilities for sample 28000 / 60000\n",
            "[t-SNE] Computed conditional probabilities for sample 29000 / 60000\n",
            "[t-SNE] Computed conditional probabilities for sample 30000 / 60000\n",
            "[t-SNE] Computed conditional probabilities for sample 31000 / 60000\n",
            "[t-SNE] Computed conditional probabilities for sample 32000 / 60000\n",
            "[t-SNE] Computed conditional probabilities for sample 33000 / 60000\n",
            "[t-SNE] Computed conditional probabilities for sample 34000 / 60000\n",
            "[t-SNE] Computed conditional probabilities for sample 35000 / 60000\n",
            "[t-SNE] Computed conditional probabilities for sample 36000 / 60000\n",
            "[t-SNE] Computed conditional probabilities for sample 37000 / 60000\n",
            "[t-SNE] Computed conditional probabilities for sample 38000 / 60000\n",
            "[t-SNE] Computed conditional probabilities for sample 39000 / 60000\n",
            "[t-SNE] Computed conditional probabilities for sample 40000 / 60000\n",
            "[t-SNE] Computed conditional probabilities for sample 41000 / 60000\n",
            "[t-SNE] Computed conditional probabilities for sample 42000 / 60000\n",
            "[t-SNE] Computed conditional probabilities for sample 43000 / 60000\n",
            "[t-SNE] Computed conditional probabilities for sample 44000 / 60000\n",
            "[t-SNE] Computed conditional probabilities for sample 45000 / 60000\n",
            "[t-SNE] Computed conditional probabilities for sample 46000 / 60000\n",
            "[t-SNE] Computed conditional probabilities for sample 47000 / 60000\n",
            "[t-SNE] Computed conditional probabilities for sample 48000 / 60000\n",
            "[t-SNE] Computed conditional probabilities for sample 49000 / 60000\n",
            "[t-SNE] Computed conditional probabilities for sample 50000 / 60000\n",
            "[t-SNE] Computed conditional probabilities for sample 51000 / 60000\n",
            "[t-SNE] Computed conditional probabilities for sample 52000 / 60000\n",
            "[t-SNE] Computed conditional probabilities for sample 53000 / 60000\n",
            "[t-SNE] Computed conditional probabilities for sample 54000 / 60000\n",
            "[t-SNE] Computed conditional probabilities for sample 55000 / 60000\n",
            "[t-SNE] Computed conditional probabilities for sample 56000 / 60000\n",
            "[t-SNE] Computed conditional probabilities for sample 57000 / 60000\n",
            "[t-SNE] Computed conditional probabilities for sample 58000 / 60000\n",
            "[t-SNE] Computed conditional probabilities for sample 59000 / 60000\n",
            "[t-SNE] Computed conditional probabilities for sample 60000 / 60000\n",
            "[t-SNE] Mean sigma: 419.405861\n",
            "[t-SNE] KL divergence after 250 iterations with early exaggeration: 103.028069\n",
            "[t-SNE] KL divergence after 1000 iterations: 4.196221\n",
            "0.9575833333333333\n"
          ]
        }
      ],
      "source": [
        "from sklearn.manifold import TSNE\n",
        "from sklearn.neural_network import MLPClassifier\n",
        "from sklearn.model_selection import train_test_split\n",
        "\n",
        "tsne3 = TSNE(n_components=1, verbose=1, random_state=0)\n",
        "\n",
        "compressed = tsne3.fit_transform(data, labels)\n",
        "\n",
        "x_train_tsne3, x_test_tsne3, y_train_tsne3, y_test_tsne3 = train_test_split(compressed, labels, train_size = 0.80, random_state=0)\n",
        "\n",
        "clf = MLPClassifier(hidden_layer_sizes = (100, 100), activation = \"logistic\", random_state = 0)\n",
        "clf.fit(x_train_tsne3, y_train_tsne3)\n",
        "\n",
        "print(clf.score(x_test_tsne3, y_test_tsne3))"
      ]
    },
    {
      "cell_type": "code",
      "execution_count": null,
      "metadata": {
        "colab": {
          "base_uri": "https://localhost:8080/"
        },
        "id": "Q2CwX7RQmml0",
        "outputId": "d5b7369e-e6f4-47ef-9b32-8e1773022075"
      },
      "outputs": [
        {
          "output_type": "stream",
          "name": "stderr",
          "text": [
            "/usr/local/lib/python3.7/dist-packages/sklearn/neural_network/_multilayer_perceptron.py:696: ConvergenceWarning: Stochastic Optimizer: Maximum iterations (200) reached and the optimization hasn't converged yet.\n",
            "  ConvergenceWarning,\n",
            "/usr/local/lib/python3.7/dist-packages/sklearn/neural_network/_multilayer_perceptron.py:696: ConvergenceWarning: Stochastic Optimizer: Maximum iterations (200) reached and the optimization hasn't converged yet.\n",
            "  ConvergenceWarning,\n",
            "/usr/local/lib/python3.7/dist-packages/sklearn/neural_network/_multilayer_perceptron.py:696: ConvergenceWarning: Stochastic Optimizer: Maximum iterations (200) reached and the optimization hasn't converged yet.\n",
            "  ConvergenceWarning,\n",
            "/usr/local/lib/python3.7/dist-packages/sklearn/neural_network/_multilayer_perceptron.py:696: ConvergenceWarning: Stochastic Optimizer: Maximum iterations (200) reached and the optimization hasn't converged yet.\n",
            "  ConvergenceWarning,\n",
            "/usr/local/lib/python3.7/dist-packages/sklearn/neural_network/_multilayer_perceptron.py:696: ConvergenceWarning: Stochastic Optimizer: Maximum iterations (200) reached and the optimization hasn't converged yet.\n",
            "  ConvergenceWarning,\n",
            "/usr/local/lib/python3.7/dist-packages/sklearn/neural_network/_multilayer_perceptron.py:696: ConvergenceWarning: Stochastic Optimizer: Maximum iterations (200) reached and the optimization hasn't converged yet.\n",
            "  ConvergenceWarning,\n",
            "/usr/local/lib/python3.7/dist-packages/sklearn/neural_network/_multilayer_perceptron.py:696: ConvergenceWarning: Stochastic Optimizer: Maximum iterations (200) reached and the optimization hasn't converged yet.\n",
            "  ConvergenceWarning,\n",
            "/usr/local/lib/python3.7/dist-packages/sklearn/neural_network/_multilayer_perceptron.py:696: ConvergenceWarning: Stochastic Optimizer: Maximum iterations (200) reached and the optimization hasn't converged yet.\n",
            "  ConvergenceWarning,\n",
            "/usr/local/lib/python3.7/dist-packages/sklearn/neural_network/_multilayer_perceptron.py:696: ConvergenceWarning: Stochastic Optimizer: Maximum iterations (200) reached and the optimization hasn't converged yet.\n",
            "  ConvergenceWarning,\n",
            "/usr/local/lib/python3.7/dist-packages/sklearn/neural_network/_multilayer_perceptron.py:696: ConvergenceWarning: Stochastic Optimizer: Maximum iterations (200) reached and the optimization hasn't converged yet.\n",
            "  ConvergenceWarning,\n",
            "/usr/local/lib/python3.7/dist-packages/sklearn/neural_network/_multilayer_perceptron.py:696: ConvergenceWarning: Stochastic Optimizer: Maximum iterations (200) reached and the optimization hasn't converged yet.\n",
            "  ConvergenceWarning,\n",
            "/usr/local/lib/python3.7/dist-packages/sklearn/neural_network/_multilayer_perceptron.py:696: ConvergenceWarning: Stochastic Optimizer: Maximum iterations (200) reached and the optimization hasn't converged yet.\n",
            "  ConvergenceWarning,\n",
            "/usr/local/lib/python3.7/dist-packages/sklearn/neural_network/_multilayer_perceptron.py:696: ConvergenceWarning: Stochastic Optimizer: Maximum iterations (200) reached and the optimization hasn't converged yet.\n",
            "  ConvergenceWarning,\n",
            "/usr/local/lib/python3.7/dist-packages/sklearn/neural_network/_multilayer_perceptron.py:696: ConvergenceWarning: Stochastic Optimizer: Maximum iterations (200) reached and the optimization hasn't converged yet.\n",
            "  ConvergenceWarning,\n",
            "/usr/local/lib/python3.7/dist-packages/sklearn/neural_network/_multilayer_perceptron.py:696: ConvergenceWarning: Stochastic Optimizer: Maximum iterations (200) reached and the optimization hasn't converged yet.\n",
            "  ConvergenceWarning,\n",
            "/usr/local/lib/python3.7/dist-packages/sklearn/neural_network/_multilayer_perceptron.py:696: ConvergenceWarning: Stochastic Optimizer: Maximum iterations (200) reached and the optimization hasn't converged yet.\n",
            "  ConvergenceWarning,\n",
            "/usr/local/lib/python3.7/dist-packages/sklearn/neural_network/_multilayer_perceptron.py:696: ConvergenceWarning: Stochastic Optimizer: Maximum iterations (200) reached and the optimization hasn't converged yet.\n",
            "  ConvergenceWarning,\n",
            "/usr/local/lib/python3.7/dist-packages/sklearn/neural_network/_multilayer_perceptron.py:696: ConvergenceWarning: Stochastic Optimizer: Maximum iterations (200) reached and the optimization hasn't converged yet.\n",
            "  ConvergenceWarning,\n",
            "/usr/local/lib/python3.7/dist-packages/sklearn/neural_network/_multilayer_perceptron.py:696: ConvergenceWarning: Stochastic Optimizer: Maximum iterations (200) reached and the optimization hasn't converged yet.\n",
            "  ConvergenceWarning,\n",
            "/usr/local/lib/python3.7/dist-packages/sklearn/neural_network/_multilayer_perceptron.py:696: ConvergenceWarning: Stochastic Optimizer: Maximum iterations (200) reached and the optimization hasn't converged yet.\n",
            "  ConvergenceWarning,\n",
            "/usr/local/lib/python3.7/dist-packages/sklearn/neural_network/_multilayer_perceptron.py:696: ConvergenceWarning: Stochastic Optimizer: Maximum iterations (200) reached and the optimization hasn't converged yet.\n",
            "  ConvergenceWarning,\n",
            "/usr/local/lib/python3.7/dist-packages/sklearn/neural_network/_multilayer_perceptron.py:696: ConvergenceWarning: Stochastic Optimizer: Maximum iterations (200) reached and the optimization hasn't converged yet.\n",
            "  ConvergenceWarning,\n",
            "/usr/local/lib/python3.7/dist-packages/sklearn/neural_network/_multilayer_perceptron.py:696: ConvergenceWarning: Stochastic Optimizer: Maximum iterations (200) reached and the optimization hasn't converged yet.\n",
            "  ConvergenceWarning,\n",
            "/usr/local/lib/python3.7/dist-packages/sklearn/neural_network/_multilayer_perceptron.py:696: ConvergenceWarning: Stochastic Optimizer: Maximum iterations (200) reached and the optimization hasn't converged yet.\n",
            "  ConvergenceWarning,\n",
            "/usr/local/lib/python3.7/dist-packages/sklearn/neural_network/_multilayer_perceptron.py:696: ConvergenceWarning: Stochastic Optimizer: Maximum iterations (200) reached and the optimization hasn't converged yet.\n",
            "  ConvergenceWarning,\n",
            "/usr/local/lib/python3.7/dist-packages/sklearn/neural_network/_multilayer_perceptron.py:696: ConvergenceWarning: Stochastic Optimizer: Maximum iterations (200) reached and the optimization hasn't converged yet.\n",
            "  ConvergenceWarning,\n",
            "/usr/local/lib/python3.7/dist-packages/sklearn/neural_network/_multilayer_perceptron.py:696: ConvergenceWarning: Stochastic Optimizer: Maximum iterations (200) reached and the optimization hasn't converged yet.\n",
            "  ConvergenceWarning,\n",
            "/usr/local/lib/python3.7/dist-packages/sklearn/neural_network/_multilayer_perceptron.py:696: ConvergenceWarning: Stochastic Optimizer: Maximum iterations (200) reached and the optimization hasn't converged yet.\n",
            "  ConvergenceWarning,\n",
            "/usr/local/lib/python3.7/dist-packages/sklearn/neural_network/_multilayer_perceptron.py:696: ConvergenceWarning: Stochastic Optimizer: Maximum iterations (200) reached and the optimization hasn't converged yet.\n",
            "  ConvergenceWarning,\n",
            "/usr/local/lib/python3.7/dist-packages/sklearn/neural_network/_multilayer_perceptron.py:696: ConvergenceWarning: Stochastic Optimizer: Maximum iterations (200) reached and the optimization hasn't converged yet.\n",
            "  ConvergenceWarning,\n",
            "/usr/local/lib/python3.7/dist-packages/sklearn/neural_network/_multilayer_perceptron.py:696: ConvergenceWarning: Stochastic Optimizer: Maximum iterations (200) reached and the optimization hasn't converged yet.\n",
            "  ConvergenceWarning,\n",
            "/usr/local/lib/python3.7/dist-packages/sklearn/neural_network/_multilayer_perceptron.py:696: ConvergenceWarning: Stochastic Optimizer: Maximum iterations (200) reached and the optimization hasn't converged yet.\n",
            "  ConvergenceWarning,\n",
            "/usr/local/lib/python3.7/dist-packages/sklearn/neural_network/_multilayer_perceptron.py:696: ConvergenceWarning: Stochastic Optimizer: Maximum iterations (200) reached and the optimization hasn't converged yet.\n",
            "  ConvergenceWarning,\n",
            "/usr/local/lib/python3.7/dist-packages/sklearn/neural_network/_multilayer_perceptron.py:696: ConvergenceWarning: Stochastic Optimizer: Maximum iterations (200) reached and the optimization hasn't converged yet.\n",
            "  ConvergenceWarning,\n",
            "/usr/local/lib/python3.7/dist-packages/sklearn/neural_network/_multilayer_perceptron.py:696: ConvergenceWarning: Stochastic Optimizer: Maximum iterations (200) reached and the optimization hasn't converged yet.\n",
            "  ConvergenceWarning,\n",
            "/usr/local/lib/python3.7/dist-packages/sklearn/neural_network/_multilayer_perceptron.py:696: ConvergenceWarning: Stochastic Optimizer: Maximum iterations (200) reached and the optimization hasn't converged yet.\n",
            "  ConvergenceWarning,\n",
            "/usr/local/lib/python3.7/dist-packages/sklearn/neural_network/_multilayer_perceptron.py:696: ConvergenceWarning: Stochastic Optimizer: Maximum iterations (200) reached and the optimization hasn't converged yet.\n",
            "  ConvergenceWarning,\n",
            "/usr/local/lib/python3.7/dist-packages/sklearn/neural_network/_multilayer_perceptron.py:696: ConvergenceWarning: Stochastic Optimizer: Maximum iterations (200) reached and the optimization hasn't converged yet.\n",
            "  ConvergenceWarning,\n",
            "/usr/local/lib/python3.7/dist-packages/sklearn/neural_network/_multilayer_perceptron.py:696: ConvergenceWarning: Stochastic Optimizer: Maximum iterations (200) reached and the optimization hasn't converged yet.\n",
            "  ConvergenceWarning,\n",
            "/usr/local/lib/python3.7/dist-packages/sklearn/neural_network/_multilayer_perceptron.py:696: ConvergenceWarning: Stochastic Optimizer: Maximum iterations (200) reached and the optimization hasn't converged yet.\n",
            "  ConvergenceWarning,\n",
            "/usr/local/lib/python3.7/dist-packages/sklearn/neural_network/_multilayer_perceptron.py:696: ConvergenceWarning: Stochastic Optimizer: Maximum iterations (200) reached and the optimization hasn't converged yet.\n",
            "  ConvergenceWarning,\n",
            "/usr/local/lib/python3.7/dist-packages/sklearn/neural_network/_multilayer_perceptron.py:696: ConvergenceWarning: Stochastic Optimizer: Maximum iterations (200) reached and the optimization hasn't converged yet.\n",
            "  ConvergenceWarning,\n",
            "/usr/local/lib/python3.7/dist-packages/sklearn/neural_network/_multilayer_perceptron.py:696: ConvergenceWarning: Stochastic Optimizer: Maximum iterations (200) reached and the optimization hasn't converged yet.\n",
            "  ConvergenceWarning,\n",
            "/usr/local/lib/python3.7/dist-packages/sklearn/neural_network/_multilayer_perceptron.py:696: ConvergenceWarning: Stochastic Optimizer: Maximum iterations (200) reached and the optimization hasn't converged yet.\n",
            "  ConvergenceWarning,\n",
            "/usr/local/lib/python3.7/dist-packages/sklearn/neural_network/_multilayer_perceptron.py:696: ConvergenceWarning: Stochastic Optimizer: Maximum iterations (200) reached and the optimization hasn't converged yet.\n",
            "  ConvergenceWarning,\n"
          ]
        },
        {
          "output_type": "stream",
          "name": "stdout",
          "text": [
            "Training complete in  1m 6s\n"
          ]
        }
      ],
      "source": [
        "optimize_train = OptimizeTrain()\n",
        "\n",
        "tsne_results_dict = optimize_train.train_and_score(x_train_tsne, y_train_tsne, x_test_tsne, y_test_tsne, training_size = 450, step_size = 10)"
      ]
    },
    {
      "cell_type": "code",
      "execution_count": null,
      "metadata": {
        "colab": {
          "base_uri": "https://localhost:8080/",
          "height": 283
        },
        "id": "UEumkdEcm0xe",
        "outputId": "d48880cf-0b1f-4c0b-b140-0f1cb09b51ef"
      },
      "outputs": [
        {
          "output_type": "execute_result",
          "data": {
            "text/plain": [
              "<matplotlib.legend.Legend at 0x7fdf9096b250>"
            ]
          },
          "metadata": {},
          "execution_count": 31
        },
        {
          "output_type": "display_data",
          "data": {
            "text/plain": [
              "<Figure size 432x288 with 1 Axes>"
            ],
            "image/png": "[encoded data removed]"
          },
          "metadata": {
            "needs_background": "light"
          }
        }
      ],
      "source": [
        "import matplotlib.pyplot as plt\n",
        "\n",
        "plt.hlines(y=full_training_score, xmin=50, xmax=450, color = 'r', label = \"Full Training Data (48k)\")\n",
        "# plt.plot(list(least_confident_samples_results.keys()), list(least_confident_samples_results.values()), label = \"Least confident (10k)\")\n",
        "plt.plot(list(tsne3_results.keys()), list(tsne3_results.values()), label = \"TSNE (600, 50ss)\")\n",
        "plt.legend()"
      ]
    },
    {
      "cell_type": "code",
      "execution_count": null,
      "metadata": {
        "id": "Mxr1tergm7JA"
      },
      "outputs": [],
      "source": []
    }
  ],
  "metadata": {
    "colab": {
      "provenance": []
    },
    "kernelspec": {
      "display_name": "Python 3",
      "name": "python3"
    },
    "language_info": {
      "name": "python"
    },
    "widgets": {
      "application/vnd.jupyter.widget-state+json": {
        "f1ca33622a724bd5b18abaaa0fba86bb": {
          "model_module": "@jupyter-widgets/controls",
          "model_name": "HBoxModel",
          "model_module_version": "1.5.0",
          "state": {
            "_dom_classes": [],
            "_model_module": "@jupyter-widgets/controls",
            "_model_module_version": "1.5.0",
            "_model_name": "HBoxModel",
            "_view_count": null,
            "_view_module": "@jupyter-widgets/controls",
            "_view_module_version": "1.5.0",
            "_view_name": "HBoxView",
            "box_style": "",
            "children": [
              "IPY_MODEL_4e30e69789e54c01a9d754369ad2da69",
              "IPY_MODEL_2ec8d7e26170470c86e19270d0d1249f",
              "IPY_MODEL_4dcf14d0298a4c93bd8e3218d474f217"
            ],
            "layout": "IPY_MODEL_4651b54637a14bfa98e23b589c963843"
          }
        },
        "4e30e69789e54c01a9d754369ad2da69": {
          "model_module": "@jupyter-widgets/controls",
          "model_name": "HTMLModel",
          "model_module_version": "1.5.0",
          "state": {
            "_dom_classes": [],
            "_model_module": "@jupyter-widgets/controls",
            "_model_module_version": "1.5.0",
            "_model_name": "HTMLModel",
            "_view_count": null,
            "_view_module": "@jupyter-widgets/controls",
            "_view_module_version": "1.5.0",
            "_view_name": "HTMLView",
            "description": "",
            "description_tooltip": null,
            "layout": "IPY_MODEL_0c4bc9c3db1c4239832678136a9bfe9e",
            "placeholder": "​",
            "style": "IPY_MODEL_14b199f602014f1bb8e4694dbda54164",
            "value": "100%"
          }
        },
        "2ec8d7e26170470c86e19270d0d1249f": {
          "model_module": "@jupyter-widgets/controls",
          "model_name": "FloatProgressModel",
          "model_module_version": "1.5.0",
          "state": {
            "_dom_classes": [],
            "_model_module": "@jupyter-widgets/controls",
            "_model_module_version": "1.5.0",
            "_model_name": "FloatProgressModel",
            "_view_count": null,
            "_view_module": "@jupyter-widgets/controls",
            "_view_module_version": "1.5.0",
            "_view_name": "ProgressView",
            "bar_style": "success",
            "description": "",
            "description_tooltip": null,
            "layout": "IPY_MODEL_43163a1d11e44a95beeb7f1fff3e8d70",
            "max": 9912422,
            "min": 0,
            "orientation": "horizontal",
            "style": "IPY_MODEL_68f2a85709654217943c4f17d4c24d22",
            "value": 9912422
          }
        },
        "4dcf14d0298a4c93bd8e3218d474f217": {
          "model_module": "@jupyter-widgets/controls",
          "model_name": "HTMLModel",
          "model_module_version": "1.5.0",
          "state": {
            "_dom_classes": [],
            "_model_module": "@jupyter-widgets/controls",
            "_model_module_version": "1.5.0",
            "_model_name": "HTMLModel",
            "_view_count": null,
            "_view_module": "@jupyter-widgets/controls",
            "_view_module_version": "1.5.0",
            "_view_name": "HTMLView",
            "description": "",
            "description_tooltip": null,
            "layout": "IPY_MODEL_787b60ffc25447c78c8cb2509979b09c",
            "placeholder": "​",
            "style": "IPY_MODEL_1ed7e8252c5043d88392d9f72fa36675",
            "value": " 9912422/9912422 [00:00&lt;00:00, 19805030.22it/s]"
          }
        },
        "4651b54637a14bfa98e23b589c963843": {
          "model_module": "@jupyter-widgets/base",
          "model_name": "LayoutModel",
          "model_module_version": "1.2.0",
          "state": {
            "_model_module": "@jupyter-widgets/base",
            "_model_module_version": "1.2.0",
            "_model_name": "LayoutModel",
            "_view_count": null,
            "_view_module": "@jupyter-widgets/base",
            "_view_module_version": "1.2.0",
            "_view_name": "LayoutView",
            "align_content": null,
            "align_items": null,
            "align_self": null,
            "border": null,
            "bottom": null,
            "display": null,
            "flex": null,
            "flex_flow": null,
            "grid_area": null,
            "grid_auto_columns": null,
            "grid_auto_flow": null,
            "grid_auto_rows": null,
            "grid_column": null,
            "grid_gap": null,
            "grid_row": null,
            "grid_template_areas": null,
            "grid_template_columns": null,
            "grid_template_rows": null,
            "height": null,
            "justify_content": null,
            "justify_items": null,
            "left": null,
            "margin": null,
            "max_height": null,
            "max_width": null,
            "min_height": null,
            "min_width": null,
            "object_fit": null,
            "object_position": null,
            "order": null,
            "overflow": null,
            "overflow_x": null,
            "overflow_y": null,
            "padding": null,
            "right": null,
            "top": null,
            "visibility": null,
            "width": null
          }
        },
        "0c4bc9c3db1c4239832678136a9bfe9e": {
          "model_module": "@jupyter-widgets/base",
          "model_name": "LayoutModel",
          "model_module_version": "1.2.0",
          "state": {
            "_model_module": "@jupyter-widgets/base",
            "_model_module_version": "1.2.0",
            "_model_name": "LayoutModel",
            "_view_count": null,
            "_view_module": "@jupyter-widgets/base",
            "_view_module_version": "1.2.0",
            "_view_name": "LayoutView",
            "align_content": null,
            "align_items": null,
            "align_self": null,
            "border": null,
            "bottom": null,
            "display": null,
            "flex": null,
            "flex_flow": null,
            "grid_area": null,
            "grid_auto_columns": null,
            "grid_auto_flow": null,
            "grid_auto_rows": null,
            "grid_column": null,
            "grid_gap": null,
            "grid_row": null,
            "grid_template_areas": null,
            "grid_template_columns": null,
            "grid_template_rows": null,
            "height": null,
            "justify_content": null,
            "justify_items": null,
            "left": null,
            "margin": null,
            "max_height": null,
            "max_width": null,
            "min_height": null,
            "min_width": null,
            "object_fit": null,
            "object_position": null,
            "order": null,
            "overflow": null,
            "overflow_x": null,
            "overflow_y": null,
            "padding": null,
            "right": null,
            "top": null,
            "visibility": null,
            "width": null
          }
        },
        "14b199f602014f1bb8e4694dbda54164": {
          "model_module": "@jupyter-widgets/controls",
          "model_name": "DescriptionStyleModel",
          "model_module_version": "1.5.0",
          "state": {
            "_model_module": "@jupyter-widgets/controls",
            "_model_module_version": "1.5.0",
            "_model_name": "DescriptionStyleModel",
            "_view_count": null,
            "_view_module": "@jupyter-widgets/base",
            "_view_module_version": "1.2.0",
            "_view_name": "StyleView",
            "description_width": ""
          }
        },
        "43163a1d11e44a95beeb7f1fff3e8d70": {
          "model_module": "@jupyter-widgets/base",
          "model_name": "LayoutModel",
          "model_module_version": "1.2.0",
          "state": {
            "_model_module": "@jupyter-widgets/base",
            "_model_module_version": "1.2.0",
            "_model_name": "LayoutModel",
            "_view_count": null,
            "_view_module": "@jupyter-widgets/base",
            "_view_module_version": "1.2.0",
            "_view_name": "LayoutView",
            "align_content": null,
            "align_items": null,
            "align_self": null,
            "border": null,
            "bottom": null,
            "display": null,
            "flex": null,
            "flex_flow": null,
            "grid_area": null,
            "grid_auto_columns": null,
            "grid_auto_flow": null,
            "grid_auto_rows": null,
            "grid_column": null,
            "grid_gap": null,
            "grid_row": null,
            "grid_template_areas": null,
            "grid_template_columns": null,
            "grid_template_rows": null,
            "height": null,
            "justify_content": null,
            "justify_items": null,
            "left": null,
            "margin": null,
            "max_height": null,
            "max_width": null,
            "min_height": null,
            "min_width": null,
            "object_fit": null,
            "object_position": null,
            "order": null,
            "overflow": null,
            "overflow_x": null,
            "overflow_y": null,
            "padding": null,
            "right": null,
            "top": null,
            "visibility": null,
            "width": null
          }
        },
        "68f2a85709654217943c4f17d4c24d22": {
          "model_module": "@jupyter-widgets/controls",
          "model_name": "ProgressStyleModel",
          "model_module_version": "1.5.0",
          "state": {
            "_model_module": "@jupyter-widgets/controls",
            "_model_module_version": "1.5.0",
            "_model_name": "ProgressStyleModel",
            "_view_count": null,
            "_view_module": "@jupyter-widgets/base",
            "_view_module_version": "1.2.0",
            "_view_name": "StyleView",
            "bar_color": null,
            "description_width": ""
          }
        },
        "787b60ffc25447c78c8cb2509979b09c": {
          "model_module": "@jupyter-widgets/base",
          "model_name": "LayoutModel",
          "model_module_version": "1.2.0",
          "state": {
            "_model_module": "@jupyter-widgets/base",
            "_model_module_version": "1.2.0",
            "_model_name": "LayoutModel",
            "_view_count": null,
            "_view_module": "@jupyter-widgets/base",
            "_view_module_version": "1.2.0",
            "_view_name": "LayoutView",
            "align_content": null,
            "align_items": null,
            "align_self": null,
            "border": null,
            "bottom": null,
            "display": null,
            "flex": null,
            "flex_flow": null,
            "grid_area": null,
            "grid_auto_columns": null,
            "grid_auto_flow": null,
            "grid_auto_rows": null,
            "grid_column": null,
            "grid_gap": null,
            "grid_row": null,
            "grid_template_areas": null,
            "grid_template_columns": null,
            "grid_template_rows": null,
            "height": null,
            "justify_content": null,
            "justify_items": null,
            "left": null,
            "margin": null,
            "max_height": null,
            "max_width": null,
            "min_height": null,
            "min_width": null,
            "object_fit": null,
            "object_position": null,
            "order": null,
            "overflow": null,
            "overflow_x": null,
            "overflow_y": null,
            "padding": null,
            "right": null,
            "top": null,
            "visibility": null,
            "width": null
          }
        },
        "1ed7e8252c5043d88392d9f72fa36675": {
          "model_module": "@jupyter-widgets/controls",
          "model_name": "DescriptionStyleModel",
          "model_module_version": "1.5.0",
          "state": {
            "_model_module": "@jupyter-widgets/controls",
            "_model_module_version": "1.5.0",
            "_model_name": "DescriptionStyleModel",
            "_view_count": null,
            "_view_module": "@jupyter-widgets/base",
            "_view_module_version": "1.2.0",
            "_view_name": "StyleView",
            "description_width": ""
          }
        },
        "d0e575d84d5746e7948fd6a7fd379a07": {
          "model_module": "@jupyter-widgets/controls",
          "model_name": "HBoxModel",
          "model_module_version": "1.5.0",
          "state": {
            "_dom_classes": [],
            "_model_module": "@jupyter-widgets/controls",
            "_model_module_version": "1.5.0",
            "_model_name": "HBoxModel",
            "_view_count": null,
            "_view_module": "@jupyter-widgets/controls",
            "_view_module_version": "1.5.0",
            "_view_name": "HBoxView",
            "box_style": "",
            "children": [
              "IPY_MODEL_806d7b92dab34ad8be8cbac3b8599430",
              "IPY_MODEL_76f09c50cc834873951a1aa54182fa32",
              "IPY_MODEL_1e06ad88568149e39c5342f88b537295"
            ],
            "layout": "IPY_MODEL_f8dbe4df80844ff38de14e98d979cb47"
          }
        },
        "806d7b92dab34ad8be8cbac3b8599430": {
          "model_module": "@jupyter-widgets/controls",
          "model_name": "HTMLModel",
          "model_module_version": "1.5.0",
          "state": {
            "_dom_classes": [],
            "_model_module": "@jupyter-widgets/controls",
            "_model_module_version": "1.5.0",
            "_model_name": "HTMLModel",
            "_view_count": null,
            "_view_module": "@jupyter-widgets/controls",
            "_view_module_version": "1.5.0",
            "_view_name": "HTMLView",
            "description": "",
            "description_tooltip": null,
            "layout": "IPY_MODEL_c57835abb51f440488fc6b5501fae65e",
            "placeholder": "​",
            "style": "IPY_MODEL_448a13417e4243029a5223fb8cc3db0b",
            "value": "100%"
          }
        },
        "76f09c50cc834873951a1aa54182fa32": {
          "model_module": "@jupyter-widgets/controls",
          "model_name": "FloatProgressModel",
          "model_module_version": "1.5.0",
          "state": {
            "_dom_classes": [],
            "_model_module": "@jupyter-widgets/controls",
            "_model_module_version": "1.5.0",
            "_model_name": "FloatProgressModel",
            "_view_count": null,
            "_view_module": "@jupyter-widgets/controls",
            "_view_module_version": "1.5.0",
            "_view_name": "ProgressView",
            "bar_style": "success",
            "description": "",
            "description_tooltip": null,
            "layout": "IPY_MODEL_c9eb15902cec48fd8a741a0964edc70e",
            "max": 28881,
            "min": 0,
            "orientation": "horizontal",
            "style": "IPY_MODEL_6f05dfd90a984e79a7b7f1da06fad882",
            "value": 28881
          }
        },
        "1e06ad88568149e39c5342f88b537295": {
          "model_module": "@jupyter-widgets/controls",
          "model_name": "HTMLModel",
          "model_module_version": "1.5.0",
          "state": {
            "_dom_classes": [],
            "_model_module": "@jupyter-widgets/controls",
            "_model_module_version": "1.5.0",
            "_model_name": "HTMLModel",
            "_view_count": null,
            "_view_module": "@jupyter-widgets/controls",
            "_view_module_version": "1.5.0",
            "_view_name": "HTMLView",
            "description": "",
            "description_tooltip": null,
            "layout": "IPY_MODEL_3d957510b47948aaafd6080375fd37d1",
            "placeholder": "​",
            "style": "IPY_MODEL_bcb64fb24cd8478eb1850c31083e551b",
            "value": " 28881/28881 [00:00&lt;00:00, 184986.59it/s]"
          }
        },
        "f8dbe4df80844ff38de14e98d979cb47": {
          "model_module": "@jupyter-widgets/base",
          "model_name": "LayoutModel",
          "model_module_version": "1.2.0",
          "state": {
            "_model_module": "@jupyter-widgets/base",
            "_model_module_version": "1.2.0",
            "_model_name": "LayoutModel",
            "_view_count": null,
            "_view_module": "@jupyter-widgets/base",
            "_view_module_version": "1.2.0",
            "_view_name": "LayoutView",
            "align_content": null,
            "align_items": null,
            "align_self": null,
            "border": null,
            "bottom": null,
            "display": null,
            "flex": null,
            "flex_flow": null,
            "grid_area": null,
            "grid_auto_columns": null,
            "grid_auto_flow": null,
            "grid_auto_rows": null,
            "grid_column": null,
            "grid_gap": null,
            "grid_row": null,
            "grid_template_areas": null,
            "grid_template_columns": null,
            "grid_template_rows": null,
            "height": null,
            "justify_content": null,
            "justify_items": null,
            "left": null,
            "margin": null,
            "max_height": null,
            "max_width": null,
            "min_height": null,
            "min_width": null,
            "object_fit": null,
            "object_position": null,
            "order": null,
            "overflow": null,
            "overflow_x": null,
            "overflow_y": null,
            "padding": null,
            "right": null,
            "top": null,
            "visibility": null,
            "width": null
          }
        },
        "c57835abb51f440488fc6b5501fae65e": {
          "model_module": "@jupyter-widgets/base",
          "model_name": "LayoutModel",
          "model_module_version": "1.2.0",
          "state": {
            "_model_module": "@jupyter-widgets/base",
            "_model_module_version": "1.2.0",
            "_model_name": "LayoutModel",
            "_view_count": null,
            "_view_module": "@jupyter-widgets/base",
            "_view_module_version": "1.2.0",
            "_view_name": "LayoutView",
            "align_content": null,
            "align_items": null,
            "align_self": null,
            "border": null,
            "bottom": null,
            "display": null,
            "flex": null,
            "flex_flow": null,
            "grid_area": null,
            "grid_auto_columns": null,
            "grid_auto_flow": null,
            "grid_auto_rows": null,
            "grid_column": null,
            "grid_gap": null,
            "grid_row": null,
            "grid_template_areas": null,
            "grid_template_columns": null,
            "grid_template_rows": null,
            "height": null,
            "justify_content": null,
            "justify_items": null,
            "left": null,
            "margin": null,
            "max_height": null,
            "max_width": null,
            "min_height": null,
            "min_width": null,
            "object_fit": null,
            "object_position": null,
            "order": null,
            "overflow": null,
            "overflow_x": null,
            "overflow_y": null,
            "padding": null,
            "right": null,
            "top": null,
            "visibility": null,
            "width": null
          }
        },
        "448a13417e4243029a5223fb8cc3db0b": {
          "model_module": "@jupyter-widgets/controls",
          "model_name": "DescriptionStyleModel",
          "model_module_version": "1.5.0",
          "state": {
            "_model_module": "@jupyter-widgets/controls",
            "_model_module_version": "1.5.0",
            "_model_name": "DescriptionStyleModel",
            "_view_count": null,
            "_view_module": "@jupyter-widgets/base",
            "_view_module_version": "1.2.0",
            "_view_name": "StyleView",
            "description_width": ""
          }
        },
        "c9eb15902cec48fd8a741a0964edc70e": {
          "model_module": "@jupyter-widgets/base",
          "model_name": "LayoutModel",
          "model_module_version": "1.2.0",
          "state": {
            "_model_module": "@jupyter-widgets/base",
            "_model_module_version": "1.2.0",
            "_model_name": "LayoutModel",
            "_view_count": null,
            "_view_module": "@jupyter-widgets/base",
            "_view_module_version": "1.2.0",
            "_view_name": "LayoutView",
            "align_content": null,
            "align_items": null,
            "align_self": null,
            "border": null,
            "bottom": null,
            "display": null,
            "flex": null,
            "flex_flow": null,
            "grid_area": null,
            "grid_auto_columns": null,
            "grid_auto_flow": null,
            "grid_auto_rows": null,
            "grid_column": null,
            "grid_gap": null,
            "grid_row": null,
            "grid_template_areas": null,
            "grid_template_columns": null,
            "grid_template_rows": null,
            "height": null,
            "justify_content": null,
            "justify_items": null,
            "left": null,
            "margin": null,
            "max_height": null,
            "max_width": null,
            "min_height": null,
            "min_width": null,
            "object_fit": null,
            "object_position": null,
            "order": null,
            "overflow": null,
            "overflow_x": null,
            "overflow_y": null,
            "padding": null,
            "right": null,
            "top": null,
            "visibility": null,
            "width": null
          }
        },
        "6f05dfd90a984e79a7b7f1da06fad882": {
          "model_module": "@jupyter-widgets/controls",
          "model_name": "ProgressStyleModel",
          "model_module_version": "1.5.0",
          "state": {
            "_model_module": "@jupyter-widgets/controls",
            "_model_module_version": "1.5.0",
            "_model_name": "ProgressStyleModel",
            "_view_count": null,
            "_view_module": "@jupyter-widgets/base",
            "_view_module_version": "1.2.0",
            "_view_name": "StyleView",
            "bar_color": null,
            "description_width": ""
          }
        },
        "3d957510b47948aaafd6080375fd37d1": {
          "model_module": "@jupyter-widgets/base",
          "model_name": "LayoutModel",
          "model_module_version": "1.2.0",
          "state": {
            "_model_module": "@jupyter-widgets/base",
            "_model_module_version": "1.2.0",
            "_model_name": "LayoutModel",
            "_view_count": null,
            "_view_module": "@jupyter-widgets/base",
            "_view_module_version": "1.2.0",
            "_view_name": "LayoutView",
            "align_content": null,
            "align_items": null,
            "align_self": null,
            "border": null,
            "bottom": null,
            "display": null,
            "flex": null,
            "flex_flow": null,
            "grid_area": null,
            "grid_auto_columns": null,
            "grid_auto_flow": null,
            "grid_auto_rows": null,
            "grid_column": null,
            "grid_gap": null,
            "grid_row": null,
            "grid_template_areas": null,
            "grid_template_columns": null,
            "grid_template_rows": null,
            "height": null,
            "justify_content": null,
            "justify_items": null,
            "left": null,
            "margin": null,
            "max_height": null,
            "max_width": null,
            "min_height": null,
            "min_width": null,
            "object_fit": null,
            "object_position": null,
            "order": null,
            "overflow": null,
            "overflow_x": null,
            "overflow_y": null,
            "padding": null,
            "right": null,
            "top": null,
            "visibility": null,
            "width": null
          }
        },
        "bcb64fb24cd8478eb1850c31083e551b": {
          "model_module": "@jupyter-widgets/controls",
          "model_name": "DescriptionStyleModel",
          "model_module_version": "1.5.0",
          "state": {
            "_model_module": "@jupyter-widgets/controls",
            "_model_module_version": "1.5.0",
            "_model_name": "DescriptionStyleModel",
            "_view_count": null,
            "_view_module": "@jupyter-widgets/base",
            "_view_module_version": "1.2.0",
            "_view_name": "StyleView",
            "description_width": ""
          }
        },
        "bfc73e08984440cfa7cfc92ade9a0b6f": {
          "model_module": "@jupyter-widgets/controls",
          "model_name": "HBoxModel",
          "model_module_version": "1.5.0",
          "state": {
            "_dom_classes": [],
            "_model_module": "@jupyter-widgets/controls",
            "_model_module_version": "1.5.0",
            "_model_name": "HBoxModel",
            "_view_count": null,
            "_view_module": "@jupyter-widgets/controls",
            "_view_module_version": "1.5.0",
            "_view_name": "HBoxView",
            "box_style": "",
            "children": [
              "IPY_MODEL_35e2728f729947da98f134ae9acc0875",
              "IPY_MODEL_5328463c06c346159f063da49d012a0b",
              "IPY_MODEL_ace704fdcba844749d16cf4a74b1886b"
            ],
            "layout": "IPY_MODEL_f0dc4c154a0844709dd7e6a24ddf00d5"
          }
        },
        "35e2728f729947da98f134ae9acc0875": {
          "model_module": "@jupyter-widgets/controls",
          "model_name": "HTMLModel",
          "model_module_version": "1.5.0",
          "state": {
            "_dom_classes": [],
            "_model_module": "@jupyter-widgets/controls",
            "_model_module_version": "1.5.0",
            "_model_name": "HTMLModel",
            "_view_count": null,
            "_view_module": "@jupyter-widgets/controls",
            "_view_module_version": "1.5.0",
            "_view_name": "HTMLView",
            "description": "",
            "description_tooltip": null,
            "layout": "IPY_MODEL_b12e663270244f288a906c2ee8b2ac10",
            "placeholder": "​",
            "style": "IPY_MODEL_e25bfdda883049a9b9a61cd06c94eaf0",
            "value": "100%"
          }
        },
        "5328463c06c346159f063da49d012a0b": {
          "model_module": "@jupyter-widgets/controls",
          "model_name": "FloatProgressModel",
          "model_module_version": "1.5.0",
          "state": {
            "_dom_classes": [],
            "_model_module": "@jupyter-widgets/controls",
            "_model_module_version": "1.5.0",
            "_model_name": "FloatProgressModel",
            "_view_count": null,
            "_view_module": "@jupyter-widgets/controls",
            "_view_module_version": "1.5.0",
            "_view_name": "ProgressView",
            "bar_style": "success",
            "description": "",
            "description_tooltip": null,
            "layout": "IPY_MODEL_bc04cdb678a94cb9a97a9769d592f6ef",
            "max": 1648877,
            "min": 0,
            "orientation": "horizontal",
            "style": "IPY_MODEL_cf2731bebdf44a738a3d2bf69a7fe77f",
            "value": 1648877
          }
        },
        "ace704fdcba844749d16cf4a74b1886b": {
          "model_module": "@jupyter-widgets/controls",
          "model_name": "HTMLModel",
          "model_module_version": "1.5.0",
          "state": {
            "_dom_classes": [],
            "_model_module": "@jupyter-widgets/controls",
            "_model_module_version": "1.5.0",
            "_model_name": "HTMLModel",
            "_view_count": null,
            "_view_module": "@jupyter-widgets/controls",
            "_view_module_version": "1.5.0",
            "_view_name": "HTMLView",
            "description": "",
            "description_tooltip": null,
            "layout": "IPY_MODEL_5d180119b0804dde86cb1e34fcf08c25",
            "placeholder": "​",
            "style": "IPY_MODEL_c71dcd2217e54121b12a8f4cf9371bd3",
            "value": " 1648877/1648877 [00:00&lt;00:00, 1901970.86it/s]"
          }
        },
        "f0dc4c154a0844709dd7e6a24ddf00d5": {
          "model_module": "@jupyter-widgets/base",
          "model_name": "LayoutModel",
          "model_module_version": "1.2.0",
          "state": {
            "_model_module": "@jupyter-widgets/base",
            "_model_module_version": "1.2.0",
            "_model_name": "LayoutModel",
            "_view_count": null,
            "_view_module": "@jupyter-widgets/base",
            "_view_module_version": "1.2.0",
            "_view_name": "LayoutView",
            "align_content": null,
            "align_items": null,
            "align_self": null,
            "border": null,
            "bottom": null,
            "display": null,
            "flex": null,
            "flex_flow": null,
            "grid_area": null,
            "grid_auto_columns": null,
            "grid_auto_flow": null,
            "grid_auto_rows": null,
            "grid_column": null,
            "grid_gap": null,
            "grid_row": null,
            "grid_template_areas": null,
            "grid_template_columns": null,
            "grid_template_rows": null,
            "height": null,
            "justify_content": null,
            "justify_items": null,
            "left": null,
            "margin": null,
            "max_height": null,
            "max_width": null,
            "min_height": null,
            "min_width": null,
            "object_fit": null,
            "object_position": null,
            "order": null,
            "overflow": null,
            "overflow_x": null,
            "overflow_y": null,
            "padding": null,
            "right": null,
            "top": null,
            "visibility": null,
            "width": null
          }
        },
        "b12e663270244f288a906c2ee8b2ac10": {
          "model_module": "@jupyter-widgets/base",
          "model_name": "LayoutModel",
          "model_module_version": "1.2.0",
          "state": {
            "_model_module": "@jupyter-widgets/base",
            "_model_module_version": "1.2.0",
            "_model_name": "LayoutModel",
            "_view_count": null,
            "_view_module": "@jupyter-widgets/base",
            "_view_module_version": "1.2.0",
            "_view_name": "LayoutView",
            "align_content": null,
            "align_items": null,
            "align_self": null,
            "border": null,
            "bottom": null,
            "display": null,
            "flex": null,
            "flex_flow": null,
            "grid_area": null,
            "grid_auto_columns": null,
            "grid_auto_flow": null,
            "grid_auto_rows": null,
            "grid_column": null,
            "grid_gap": null,
            "grid_row": null,
            "grid_template_areas": null,
            "grid_template_columns": null,
            "grid_template_rows": null,
            "height": null,
            "justify_content": null,
            "justify_items": null,
            "left": null,
            "margin": null,
            "max_height": null,
            "max_width": null,
            "min_height": null,
            "min_width": null,
            "object_fit": null,
            "object_position": null,
            "order": null,
            "overflow": null,
            "overflow_x": null,
            "overflow_y": null,
            "padding": null,
            "right": null,
            "top": null,
            "visibility": null,
            "width": null
          }
        },
        "e25bfdda883049a9b9a61cd06c94eaf0": {
          "model_module": "@jupyter-widgets/controls",
          "model_name": "DescriptionStyleModel",
          "model_module_version": "1.5.0",
          "state": {
            "_model_module": "@jupyter-widgets/controls",
            "_model_module_version": "1.5.0",
            "_model_name": "DescriptionStyleModel",
            "_view_count": null,
            "_view_module": "@jupyter-widgets/base",
            "_view_module_version": "1.2.0",
            "_view_name": "StyleView",
            "description_width": ""
          }
        },
        "bc04cdb678a94cb9a97a9769d592f6ef": {
          "model_module": "@jupyter-widgets/base",
          "model_name": "LayoutModel",
          "model_module_version": "1.2.0",
          "state": {
            "_model_module": "@jupyter-widgets/base",
            "_model_module_version": "1.2.0",
            "_model_name": "LayoutModel",
            "_view_count": null,
            "_view_module": "@jupyter-widgets/base",
            "_view_module_version": "1.2.0",
            "_view_name": "LayoutView",
            "align_content": null,
            "align_items": null,
            "align_self": null,
            "border": null,
            "bottom": null,
            "display": null,
            "flex": null,
            "flex_flow": null,
            "grid_area": null,
            "grid_auto_columns": null,
            "grid_auto_flow": null,
            "grid_auto_rows": null,
            "grid_column": null,
            "grid_gap": null,
            "grid_row": null,
            "grid_template_areas": null,
            "grid_template_columns": null,
            "grid_template_rows": null,
            "height": null,
            "justify_content": null,
            "justify_items": null,
            "left": null,
            "margin": null,
            "max_height": null,
            "max_width": null,
            "min_height": null,
            "min_width": null,
            "object_fit": null,
            "object_position": null,
            "order": null,
            "overflow": null,
            "overflow_x": null,
            "overflow_y": null,
            "padding": null,
            "right": null,
            "top": null,
            "visibility": null,
            "width": null
          }
        },
        "cf2731bebdf44a738a3d2bf69a7fe77f": {
          "model_module": "@jupyter-widgets/controls",
          "model_name": "ProgressStyleModel",
          "model_module_version": "1.5.0",
          "state": {
            "_model_module": "@jupyter-widgets/controls",
            "_model_module_version": "1.5.0",
            "_model_name": "ProgressStyleModel",
            "_view_count": null,
            "_view_module": "@jupyter-widgets/base",
            "_view_module_version": "1.2.0",
            "_view_name": "StyleView",
            "bar_color": null,
            "description_width": ""
          }
        },
        "5d180119b0804dde86cb1e34fcf08c25": {
          "model_module": "@jupyter-widgets/base",
          "model_name": "LayoutModel",
          "model_module_version": "1.2.0",
          "state": {
            "_model_module": "@jupyter-widgets/base",
            "_model_module_version": "1.2.0",
            "_model_name": "LayoutModel",
            "_view_count": null,
            "_view_module": "@jupyter-widgets/base",
            "_view_module_version": "1.2.0",
            "_view_name": "LayoutView",
            "align_content": null,
            "align_items": null,
            "align_self": null,
            "border": null,
            "bottom": null,
            "display": null,
            "flex": null,
            "flex_flow": null,
            "grid_area": null,
            "grid_auto_columns": null,
            "grid_auto_flow": null,
            "grid_auto_rows": null,
            "grid_column": null,
            "grid_gap": null,
            "grid_row": null,
            "grid_template_areas": null,
            "grid_template_columns": null,
            "grid_template_rows": null,
            "height": null,
            "justify_content": null,
            "justify_items": null,
            "left": null,
            "margin": null,
            "max_height": null,
            "max_width": null,
            "min_height": null,
            "min_width": null,
            "object_fit": null,
            "object_position": null,
            "order": null,
            "overflow": null,
            "overflow_x": null,
            "overflow_y": null,
            "padding": null,
            "right": null,
            "top": null,
            "visibility": null,
            "width": null
          }
        },
        "c71dcd2217e54121b12a8f4cf9371bd3": {
          "model_module": "@jupyter-widgets/controls",
          "model_name": "DescriptionStyleModel",
          "model_module_version": "1.5.0",
          "state": {
            "_model_module": "@jupyter-widgets/controls",
            "_model_module_version": "1.5.0",
            "_model_name": "DescriptionStyleModel",
            "_view_count": null,
            "_view_module": "@jupyter-widgets/base",
            "_view_module_version": "1.2.0",
            "_view_name": "StyleView",
            "description_width": ""
          }
        },
        "bfbada1747ca4b2a80b0b9d82ff1a3b0": {
          "model_module": "@jupyter-widgets/controls",
          "model_name": "HBoxModel",
          "model_module_version": "1.5.0",
          "state": {
            "_dom_classes": [],
            "_model_module": "@jupyter-widgets/controls",
            "_model_module_version": "1.5.0",
            "_model_name": "HBoxModel",
            "_view_count": null,
            "_view_module": "@jupyter-widgets/controls",
            "_view_module_version": "1.5.0",
            "_view_name": "HBoxView",
            "box_style": "",
            "children": [
              "IPY_MODEL_0990624b6b534777acd144005b0d3027",
              "IPY_MODEL_0238e811dab942a1b6ca420761d88852",
              "IPY_MODEL_aae5aa9a4f1d4f56abbec72bfea04632"
            ],
            "layout": "IPY_MODEL_38b60bbac2284462b16c448d7e171656"
          }
        },
        "0990624b6b534777acd144005b0d3027": {
          "model_module": "@jupyter-widgets/controls",
          "model_name": "HTMLModel",
          "model_module_version": "1.5.0",
          "state": {
            "_dom_classes": [],
            "_model_module": "@jupyter-widgets/controls",
            "_model_module_version": "1.5.0",
            "_model_name": "HTMLModel",
            "_view_count": null,
            "_view_module": "@jupyter-widgets/controls",
            "_view_module_version": "1.5.0",
            "_view_name": "HTMLView",
            "description": "",
            "description_tooltip": null,
            "layout": "IPY_MODEL_b429870371ad4fc8962335ec572a2f02",
            "placeholder": "​",
            "style": "IPY_MODEL_6e51d7814dd04a0d99743a62b460913e",
            "value": "100%"
          }
        },
        "0238e811dab942a1b6ca420761d88852": {
          "model_module": "@jupyter-widgets/controls",
          "model_name": "FloatProgressModel",
          "model_module_version": "1.5.0",
          "state": {
            "_dom_classes": [],
            "_model_module": "@jupyter-widgets/controls",
            "_model_module_version": "1.5.0",
            "_model_name": "FloatProgressModel",
            "_view_count": null,
            "_view_module": "@jupyter-widgets/controls",
            "_view_module_version": "1.5.0",
            "_view_name": "ProgressView",
            "bar_style": "success",
            "description": "",
            "description_tooltip": null,
            "layout": "IPY_MODEL_b824efa692bc4cfcb42ee0de51ce2607",
            "max": 4542,
            "min": 0,
            "orientation": "horizontal",
            "style": "IPY_MODEL_a8eb422f2c3240bc9db4948d32cf096a",
            "value": 4542
          }
        },
        "aae5aa9a4f1d4f56abbec72bfea04632": {
          "model_module": "@jupyter-widgets/controls",
          "model_name": "HTMLModel",
          "model_module_version": "1.5.0",
          "state": {
            "_dom_classes": [],
            "_model_module": "@jupyter-widgets/controls",
            "_model_module_version": "1.5.0",
            "_model_name": "HTMLModel",
            "_view_count": null,
            "_view_module": "@jupyter-widgets/controls",
            "_view_module_version": "1.5.0",
            "_view_name": "HTMLView",
            "description": "",
            "description_tooltip": null,
            "layout": "IPY_MODEL_21edbe54aca143be8afcbd90b547ccc4",
            "placeholder": "​",
            "style": "IPY_MODEL_b778e7f6fb6f4ffab6a21659c3b18601",
            "value": " 4542/4542 [00:00&lt;00:00, 49826.15it/s]"
          }
        },
        "38b60bbac2284462b16c448d7e171656": {
          "model_module": "@jupyter-widgets/base",
          "model_name": "LayoutModel",
          "model_module_version": "1.2.0",
          "state": {
            "_model_module": "@jupyter-widgets/base",
            "_model_module_version": "1.2.0",
            "_model_name": "LayoutModel",
            "_view_count": null,
            "_view_module": "@jupyter-widgets/base",
            "_view_module_version": "1.2.0",
            "_view_name": "LayoutView",
            "align_content": null,
            "align_items": null,
            "align_self": null,
            "border": null,
            "bottom": null,
            "display": null,
            "flex": null,
            "flex_flow": null,
            "grid_area": null,
            "grid_auto_columns": null,
            "grid_auto_flow": null,
            "grid_auto_rows": null,
            "grid_column": null,
            "grid_gap": null,
            "grid_row": null,
            "grid_template_areas": null,
            "grid_template_columns": null,
            "grid_template_rows": null,
            "height": null,
            "justify_content": null,
            "justify_items": null,
            "left": null,
            "margin": null,
            "max_height": null,
            "max_width": null,
            "min_height": null,
            "min_width": null,
            "object_fit": null,
            "object_position": null,
            "order": null,
            "overflow": null,
            "overflow_x": null,
            "overflow_y": null,
            "padding": null,
            "right": null,
            "top": null,
            "visibility": null,
            "width": null
          }
        },
        "b429870371ad4fc8962335ec572a2f02": {
          "model_module": "@jupyter-widgets/base",
          "model_name": "LayoutModel",
          "model_module_version": "1.2.0",
          "state": {
            "_model_module": "@jupyter-widgets/base",
            "_model_module_version": "1.2.0",
            "_model_name": "LayoutModel",
            "_view_count": null,
            "_view_module": "@jupyter-widgets/base",
            "_view_module_version": "1.2.0",
            "_view_name": "LayoutView",
            "align_content": null,
            "align_items": null,
            "align_self": null,
            "border": null,
            "bottom": null,
            "display": null,
            "flex": null,
            "flex_flow": null,
            "grid_area": null,
            "grid_auto_columns": null,
            "grid_auto_flow": null,
            "grid_auto_rows": null,
            "grid_column": null,
            "grid_gap": null,
            "grid_row": null,
            "grid_template_areas": null,
            "grid_template_columns": null,
            "grid_template_rows": null,
            "height": null,
            "justify_content": null,
            "justify_items": null,
            "left": null,
            "margin": null,
            "max_height": null,
            "max_width": null,
            "min_height": null,
            "min_width": null,
            "object_fit": null,
            "object_position": null,
            "order": null,
            "overflow": null,
            "overflow_x": null,
            "overflow_y": null,
            "padding": null,
            "right": null,
            "top": null,
            "visibility": null,
            "width": null
          }
        },
        "6e51d7814dd04a0d99743a62b460913e": {
          "model_module": "@jupyter-widgets/controls",
          "model_name": "DescriptionStyleModel",
          "model_module_version": "1.5.0",
          "state": {
            "_model_module": "@jupyter-widgets/controls",
            "_model_module_version": "1.5.0",
            "_model_name": "DescriptionStyleModel",
            "_view_count": null,
            "_view_module": "@jupyter-widgets/base",
            "_view_module_version": "1.2.0",
            "_view_name": "StyleView",
            "description_width": ""
          }
        },
        "b824efa692bc4cfcb42ee0de51ce2607": {
          "model_module": "@jupyter-widgets/base",
          "model_name": "LayoutModel",
          "model_module_version": "1.2.0",
          "state": {
            "_model_module": "@jupyter-widgets/base",
            "_model_module_version": "1.2.0",
            "_model_name": "LayoutModel",
            "_view_count": null,
            "_view_module": "@jupyter-widgets/base",
            "_view_module_version": "1.2.0",
            "_view_name": "LayoutView",
            "align_content": null,
            "align_items": null,
            "align_self": null,
            "border": null,
            "bottom": null,
            "display": null,
            "flex": null,
            "flex_flow": null,
            "grid_area": null,
            "grid_auto_columns": null,
            "grid_auto_flow": null,
            "grid_auto_rows": null,
            "grid_column": null,
            "grid_gap": null,
            "grid_row": null,
            "grid_template_areas": null,
            "grid_template_columns": null,
            "grid_template_rows": null,
            "height": null,
            "justify_content": null,
            "justify_items": null,
            "left": null,
            "margin": null,
            "max_height": null,
            "max_width": null,
            "min_height": null,
            "min_width": null,
            "object_fit": null,
            "object_position": null,
            "order": null,
            "overflow": null,
            "overflow_x": null,
            "overflow_y": null,
            "padding": null,
            "right": null,
            "top": null,
            "visibility": null,
            "width": null
          }
        },
        "a8eb422f2c3240bc9db4948d32cf096a": {
          "model_module": "@jupyter-widgets/controls",
          "model_name": "ProgressStyleModel",
          "model_module_version": "1.5.0",
          "state": {
            "_model_module": "@jupyter-widgets/controls",
            "_model_module_version": "1.5.0",
            "_model_name": "ProgressStyleModel",
            "_view_count": null,
            "_view_module": "@jupyter-widgets/base",
            "_view_module_version": "1.2.0",
            "_view_name": "StyleView",
            "bar_color": null,
            "description_width": ""
          }
        },
        "21edbe54aca143be8afcbd90b547ccc4": {
          "model_module": "@jupyter-widgets/base",
          "model_name": "LayoutModel",
          "model_module_version": "1.2.0",
          "state": {
            "_model_module": "@jupyter-widgets/base",
            "_model_module_version": "1.2.0",
            "_model_name": "LayoutModel",
            "_view_count": null,
            "_view_module": "@jupyter-widgets/base",
            "_view_module_version": "1.2.0",
            "_view_name": "LayoutView",
            "align_content": null,
            "align_items": null,
            "align_self": null,
            "border": null,
            "bottom": null,
            "display": null,
            "flex": null,
            "flex_flow": null,
            "grid_area": null,
            "grid_auto_columns": null,
            "grid_auto_flow": null,
            "grid_auto_rows": null,
            "grid_column": null,
            "grid_gap": null,
            "grid_row": null,
            "grid_template_areas": null,
            "grid_template_columns": null,
            "grid_template_rows": null,
            "height": null,
            "justify_content": null,
            "justify_items": null,
            "left": null,
            "margin": null,
            "max_height": null,
            "max_width": null,
            "min_height": null,
            "min_width": null,
            "object_fit": null,
            "object_position": null,
            "order": null,
            "overflow": null,
            "overflow_x": null,
            "overflow_y": null,
            "padding": null,
            "right": null,
            "top": null,
            "visibility": null,
            "width": null
          }
        },
        "b778e7f6fb6f4ffab6a21659c3b18601": {
          "model_module": "@jupyter-widgets/controls",
          "model_name": "DescriptionStyleModel",
          "model_module_version": "1.5.0",
          "state": {
            "_model_module": "@jupyter-widgets/controls",
            "_model_module_version": "1.5.0",
            "_model_name": "DescriptionStyleModel",
            "_view_count": null,
            "_view_module": "@jupyter-widgets/base",
            "_view_module_version": "1.2.0",
            "_view_name": "StyleView",
            "description_width": ""
          }
        }
      }
    }
  },
  "nbformat": 4,
  "nbformat_minor": 0
}